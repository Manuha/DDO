{
 "cells": [
  {
   "cell_type": "code",
   "execution_count": 5,
   "id": "a66b31af",
   "metadata": {},
   "outputs": [
    {
     "name": "stderr",
     "output_type": "stream",
     "text": [
      "\u001b[32m\u001b[1m    Updating\u001b[22m\u001b[39m registry at `~/.julia/registries/General`\n",
      "\u001b[32m\u001b[1m   Resolving\u001b[22m\u001b[39m package versions...\n",
      "\u001b[32m\u001b[1m  No Changes\u001b[22m\u001b[39m to `~/.julia/environments/v1.6/Project.toml`\n",
      "\u001b[32m\u001b[1m  No Changes\u001b[22m\u001b[39m to `~/.julia/environments/v1.6/Manifest.toml`\n",
      "\u001b[32m\u001b[1m   Resolving\u001b[22m\u001b[39m package versions...\n",
      "\u001b[32m\u001b[1m  No Changes\u001b[22m\u001b[39m to `~/.julia/environments/v1.6/Project.toml`\n",
      "\u001b[32m\u001b[1m  No Changes\u001b[22m\u001b[39m to `~/.julia/environments/v1.6/Manifest.toml`\n"
     ]
    }
   ],
   "source": [
    "import Pkg;\n",
    "Pkg.add(\"CSV\"); \n",
    "Pkg.add(\"DataFrames\");"
   ]
  },
  {
   "cell_type": "code",
   "execution_count": 92,
   "id": "dd6a7715",
   "metadata": {},
   "outputs": [],
   "source": [
    "using CSV\n",
    "using DataFrames\n",
    "using LinearAlgebra"
   ]
  },
  {
   "cell_type": "code",
   "execution_count": 101,
   "id": "77a7b6c5",
   "metadata": {},
   "outputs": [
    {
     "data": {
      "text/plain": [
       "get_actual_values_from_cumulatives (generic function with 1 method)"
      ]
     },
     "execution_count": 101,
     "metadata": {},
     "output_type": "execute_result"
    }
   ],
   "source": [
    "function get_actual_values_from_cumulatives(cumulative_vector)\n",
    "    shifted_values = zeros(Float64, size(cumulative_vector)[1]+1)\n",
    "    for (index, value) in enumerate(cumulative_vector)\n",
    "       shifted_values[index+1] = value  \n",
    "    end\n",
    "\n",
    "    final_values = zeros(Float64, size(cumulative_vector)[1])\n",
    "    for (index, value) in enumerate(cumulative_vector)\n",
    "       final_values[index] = -shifted_values[index]+cumulative_vector[index]  \n",
    "    end\n",
    "    return final_values\n",
    "end"
   ]
  },
  {
   "cell_type": "markdown",
   "id": "3ae14849",
   "metadata": {},
   "source": [
    "Read data. Data downloaded from https://data.humdata.org/dataset/novel-coronavirus-2019-ncov-cases\n",
    "\n",
    "**Note: recovered data for US  available only until Dec 13, 2020**"
   ]
  },
  {
   "cell_type": "code",
   "execution_count": 103,
   "id": "9f01f1e9",
   "metadata": {},
   "outputs": [
    {
     "data": {
      "text/plain": [
       "327-element Vector{Float64}:\n",
       "    0.0\n",
       "    0.0\n",
       "    0.0\n",
       "    0.0\n",
       "    0.0\n",
       "    0.0\n",
       "    0.0\n",
       "    0.0\n",
       "    0.0\n",
       "    0.0\n",
       "    0.0\n",
       "    0.0\n",
       "    0.0\n",
       "    ⋮\n",
       " 2830.0\n",
       " 2969.0\n",
       " 2612.0\n",
       " 2390.0\n",
       " 1403.0\n",
       " 1559.0\n",
       " 2583.0\n",
       " 3181.0\n",
       " 2986.0\n",
       " 3381.0\n",
       " 2533.0\n",
       " 1659.0"
      ]
     },
     "execution_count": 103,
     "metadata": {},
     "output_type": "execute_result"
    }
   ],
   "source": [
    "infected_cases_data_path = \"data/countries/time_series_covid19_confirmed_global.csv\"\n",
    "recovered_cases_data_path = \"data/countries/time_series_covid19_recovered_global.csv\"\n",
    "deceased_cases_data_path = \"data/countries/time_series_covid19_deaths_global.csv\"\n",
    "\n",
    "infected_total = CSV.read(infected_cases_data_path, DataFrame)\n",
    "infected_US = infected_total[infected_total[!, :\"Country/Region\"] .== \"US\", :]\n",
    "infected = select(infected_US, Not([:\"Province/State\", :\"Lat\", :\"Long\", :\"Country/Region\"])) #remove columns that are not required\n",
    "\n",
    "recovered_total = CSV.read(recovered_cases_data_path, DataFrame)\n",
    "\n",
    "recovered_US = recovered_total[recovered_total[!, :\"Country/Region\"] .== \"US\", :]\n",
    "recovered = select(recovered_US, Not([:\"Province/State\", :\"Lat\", :\"Long\", :\"Country/Region\"])) #remove columns that are not required\n",
    "\n",
    "\n",
    "deceased_total = CSV.read(deceased_cases_data_path, DataFrame)\n",
    "deceased_US = deceased_total[deceased_total[!, :\"Country/Region\"] .== \"US\", :]\n",
    "deceased = select(deceased_US, Not([:\"Province/State\", :\"Lat\", :\"Long\", :\"Country/Region\"]))#remove columns that are not required\n",
    "\n",
    "\n",
    "# #convert to matrices\n",
    "\n",
    "infected = Matrix(infected)'[1:327]\n",
    "recovered = Matrix(recovered)'[1:327] #considering only until Dec 13 2020.\n",
    "deceased = Matrix(deceased)'[1:327]\n",
    "\n",
    "infected = get_actual_values_from_cumulatives(infected)\n",
    "recovered = get_actual_values_from_cumulatives(recovered)\n",
    "deceased = get_actual_values_from_cumulatives(deceased)"
   ]
  },
  {
   "cell_type": "code",
   "execution_count": null,
   "id": "d507ee32",
   "metadata": {},
   "outputs": [],
   "source": []
  },
  {
   "cell_type": "markdown",
   "id": "7d55bfba",
   "metadata": {},
   "source": [
    "Algorithm:\n",
    "\n",
    "Equations:\n",
    "    I(t) = αĨ(t)\n",
    "\n",
    "    R(t) = αR̃(t)\n",
    "\n",
    "    S(t) = αS̃(t)\n",
    "\n",
    "where I(t), R(t) and S(t) are the actual number of infected, recovered and susceptible population at time t and α≥1;\n",
    "   \n",
    "    S(t₀) = ωP\n",
    "\n",
    "where ωϵ[0,1] and P is the total population.\n",
    "\n",
    "S̃(t + 1) = S̃(t) - β * (S̃(t) * Ĩ(t)) ÷ (S̃(t) + Ĩ(t))\n",
    "Ĩ(t + 1) = Ĩ(t) + β * (S̃(t) * Ĩ(t)) ÷ (S̃(t) + Ĩ(t)) - γ * Ĩ(t) - ν * Ĩ(t)\n",
    "R̃(t + 1) = R̃(t) + γ * Ĩ(t)\n",
    "D(t + 1) = D(t) + α * ν * Ĩ(t)\n",
    "\n",
    "where\n",
    "    I(t) = αĨ(t)\n",
    "\n",
    "    R(t) = αR̃(t)\n",
    "\n",
    "    S(t) = αS̃(t)\n",
    "\n",
    "where I(t), R(t) and S(t) are the actual number of infected, recovered and susceptible population at time t and α≥1;\n",
    "   \n",
    "    S(t₀) = ωP\n",
    "\n",
    "where ωϵ[0,1] and P is the total population.\n",
    "\n",
    "    S̃(t) = (ω ÷ α) * P - Ĩ(t) - R̃(t) - D̃(t)\n",
    "\n",
    "    Δ(t) = [Ĩ(t + 1)-Ĩ(t); R̃(t + 1)-R̃(t); D̃(t + 1)-D̃(t)]\n",
    "    Δ(t) = Φ_ωα(t) = [S̃(t)-β*(S̃(t)*Ĩ(t))÷(S̃(t)+Ĩ(t)) -Ĩ(t) -Ĩ(t)÷α; 0 Ĩ(t) 0; 0 0 Ĩ(t)]\n",
    "    \n",
    "    Δ̄ = [ρ^(Θ -t₀)Δ(t₀); ρ^(Θ -t₀-1)Δ(t₀+1); ρ^(Θ -t₀-2)Δ(t₀+2)...Δ(Θ)]\n",
    "    Φ̄_ωα = [ρ^(Θ -t₀)Φ_ωα(t₀); ρ^(Θ -t₀-1)Φ_ωα(t₀+1); ρ^(Θ -t₀-2)Φ_ωα(t₀+2)...Φ_ωα(Θ)]\n",
    "\n",
    "where ρϵ(0,1)\n"
   ]
  },
  {
   "cell_type": "markdown",
   "id": "727c4345",
   "metadata": {},
   "source": [
    "Steps:\n",
    "1. Input: data Ĩ(t), R̃(t), and D(t), maximum value ᾱ of α, weighting parameter ρ, and total population P\n",
    "\n",
    "outputs -> ω⋆, α⋆, β⋆, γ⋆, ν̄⋆\n"
   ]
  },
  {
   "cell_type": "code",
   "execution_count": 52,
   "id": "b10b1aa5",
   "metadata": {},
   "outputs": [
    {
     "data": {
      "text/plain": [
       "0.4"
      ]
     },
     "execution_count": 52,
     "metadata": {},
     "output_type": "execute_result"
    }
   ],
   "source": [
    "#we have Ĩ(t) and R̃(t) and D(t) in infected, recovered and deceased dataframes.\n",
    "P = 332902734 #https://www.census.gov/popclock/\n",
    "ᾱ = 100       # ᾱ*Infected + ᾱ*Recovered + ᾱ*Deceased < ω*Population\n",
    "ρ = 0.4"
   ]
  },
  {
   "cell_type": "code",
   "execution_count": 106,
   "id": "10f4af00",
   "metadata": {},
   "outputs": [
    {
     "data": {
      "text/plain": [
       "get_susceptible (generic function with 1 method)"
      ]
     },
     "execution_count": 106,
     "metadata": {},
     "output_type": "execute_result"
    }
   ],
   "source": [
    "function get_susceptible(ω, α, P, Ĩ, R̃, D)\n",
    "    population = zeros(Float64, size(Ĩ)[1])\n",
    "    fill!(population, ω*P/α)\n",
    "    return population-infected-recovered-deceased\n",
    "end"
   ]
  },
  {
   "cell_type": "code",
   "execution_count": 196,
   "id": "0aed95e8",
   "metadata": {},
   "outputs": [
    {
     "data": {
      "text/plain": [
       "invalid (generic function with 1 method)"
      ]
     },
     "execution_count": 196,
     "metadata": {},
     "output_type": "execute_result"
    }
   ],
   "source": [
    "function invalid(vector_values)\n",
    "    for (index, value) in enumerate(vector_values)\n",
    "        if value < 1\n",
    "            return true\n",
    "        end\n",
    "    end\n",
    "    return false\n",
    "end"
   ]
  },
  {
   "cell_type": "code",
   "execution_count": 121,
   "id": "c8de9d0d",
   "metadata": {},
   "outputs": [
    {
     "data": {
      "text/plain": [
       "computeΔ̄ (generic function with 1 method)"
      ]
     },
     "execution_count": 121,
     "metadata": {},
     "output_type": "execute_result"
    }
   ],
   "source": [
    "function computeΔ̄(Ĩ, R̃, D, ρ)\n",
    "    Θ = size(Ĩ)[1]\n",
    "    \n",
    "    ρmatrix = zeros(Float64, Θ)\n",
    "    for i in 1:Θ\n",
    "        power = Θ-i\n",
    "        ρmatrix[i] = ρ^power\n",
    "    end\n",
    "    \n",
    "    Δ̄ = zeros(Float64, 3Θ)\n",
    "    for i in 1:Θ-1\n",
    "        Δ̄[3(i-1)+1] = ρmatrix[i]*(Ĩ[i+1]-Ĩ[i])\n",
    "        Δ̄[3(i-1)+2] = ρmatrix[i]*(R̃[i+1]-R̃[i])\n",
    "        Δ̄[3(i-1)+3] = ρmatrix[i]*(D[i+1]-D[i])\n",
    "    end\n",
    "    \n",
    "    Δ̄[3(Θ-1)+1] = ρmatrix[Θ]*(Ĩ[Θ])\n",
    "    Δ̄[3(Θ-1)+2] = ρmatrix[Θ]*(R̃[Θ])\n",
    "    Δ̄[3(Θ-1)+3] = ρmatrix[Θ]*(D[Θ])\n",
    "\n",
    "    return Δ̄\n",
    "end"
   ]
  },
  {
   "cell_type": "code",
   "execution_count": 205,
   "id": "53db4b95",
   "metadata": {},
   "outputs": [
    {
     "data": {
      "text/plain": [
       "computeΦ (generic function with 1 method)"
      ]
     },
     "execution_count": 205,
     "metadata": {},
     "output_type": "execute_result"
    }
   ],
   "source": [
    "function computeΦ(ω, α, S̃, Ĩ)\n",
    "    Θ = size(Ĩ)[1]\n",
    "    \n",
    "    ρmatrix = zeros(Float64, Θ)\n",
    "    for i in 1:Θ\n",
    "        power = Θ-i\n",
    "        ρmatrix[i] = ρ^power\n",
    "    end\n",
    "    \n",
    "    Φ = zeros(Float64, 3Θ, 3)\n",
    "    i=1\n",
    "    while i<Θ\n",
    "        Φ[i] = ρmatrix[i]*(S̃[i]*Ĩ[i])/ (S̃[i]+Ĩ[i])\n",
    "        Φ[3*Θ+i] = -1*ρmatrix[i]*Ĩ[i]\n",
    "        Φ[6*Θ+i] = -1*ρmatrix[i]*Ĩ[i]/α\n",
    "        Φ[i+1] = 0\n",
    "        Φ[3*Θ+i+1] = ρmatrix[i]*Ĩ[i]\n",
    "        Φ[6*Θ+i+1] = 0\n",
    "        Φ[i+2] = 0\n",
    "        Φ[3*Θ+i+2] = 0\n",
    "        Φ[6*Θ+i+2] = ρmatrix[i]*Ĩ[i]\n",
    "        i+=3\n",
    "    end\n",
    "    return Φ\n",
    "    \n",
    "end\n",
    "\n",
    "# S̃ = get_susceptible(0.5, 2, P, infected, recovered, deceased)\n",
    "# computeΦ(0.5, 2, S̃, infected)\n"
   ]
  },
  {
   "cell_type": "code",
   "execution_count": 204,
   "id": "2fb40bc5",
   "metadata": {},
   "outputs": [
    {
     "data": {
      "text/plain": [
       "computeParameters (generic function with 1 method)"
      ]
     },
     "execution_count": 204,
     "metadata": {},
     "output_type": "execute_result"
    }
   ],
   "source": [
    "function computeParameters(Φ̄, Δ̄)\n",
    "    pseudo_inv = pinv(Φ̄)\n",
    "    params = pseudo_inv * Δ̄\n",
    "    return params\n",
    "end"
   ]
  },
  {
   "cell_type": "code",
   "execution_count": 199,
   "id": "505488ed",
   "metadata": {
    "scrolled": false
   },
   "outputs": [
    {
     "data": {
      "text/plain": [
       "error_ (generic function with 1 method)"
      ]
     },
     "execution_count": 199,
     "metadata": {},
     "output_type": "execute_result"
    }
   ],
   "source": [
    "function error_(Δ̄, Φ̄, params)\n",
    "    param_matrix = zeros(Float64, 3, 1)\n",
    "    param_matrix[1] = params[1]\n",
    "    param_matrix[2] = params[2]\n",
    "    param_matrix[3] = params[3]\n",
    "    \n",
    "    diff = Δ̄-(Φ̄*param_matrix)\n",
    "    return norm(diff)^2\n",
    "end\n",
    "\n",
    "# M = [1.5 1.3; 1.2 1.9]\n",
    "# N = [2,4]\n",
    "# params = computeParameters(M, N)\n",
    "# error_(N, M, params)\n",
    "# # print(params)\n"
   ]
  },
  {
   "cell_type": "code",
   "execution_count": 213,
   "id": "9877c4d5",
   "metadata": {},
   "outputs": [
    {
     "data": {
      "text/plain": [
       "sir_model (generic function with 1 method)"
      ]
     },
     "execution_count": 213,
     "metadata": {},
     "output_type": "execute_result"
    }
   ],
   "source": [
    "function sir_model(Ĩ, R̃, D, P, ᾱ, ρ)\n",
    "    e = Inf\n",
    "    Δ̄ = computeΔ̄(Ĩ, R̃, D, ρ)\n",
    "    ω_ = Inf\n",
    "    α_ = Inf\n",
    "    β_ = Inf\n",
    "    γ_ = Inf\n",
    "    ν̃_ = Inf\n",
    "    ω = 0 \n",
    "    \n",
    "    while ω ≤ 1\n",
    "        α = 1\n",
    "        while α ≤ ᾱ\n",
    "            S̃ = get_susceptible(ω, α, P, Ĩ, R̃, D)\n",
    "            if invalid(S̃)\n",
    "                break\n",
    "            end\n",
    "            \n",
    "            Φ̄ = computeΦ(ω, α, S̃, Ĩ)\n",
    "            params = computeParameters(Φ̄, Δ̄)\n",
    "            β = params[1]\n",
    "            γ = params[2]\n",
    "            ν̃ = params[3]\n",
    "            if(β<0 || γ<0 || ν̃<0)\n",
    "                print(ω)\n",
    "                print(\" \")\n",
    "                println(α)\n",
    "            end\n",
    "            error_value = error_(Δ̄, Φ̄, params)\n",
    "            if error_value < e\n",
    "                e = error_value\n",
    "                ω_ = ω\n",
    "                α_ = α\n",
    "                β_ = β\n",
    "                γ_ = γ\n",
    "                ν̃_ = ν̃\n",
    "            end\n",
    "            α+=10\n",
    "        end\n",
    "        ω+=0.05\n",
    "    end\n",
    "    return ω_, α_, β_, γ_, ν̃_\n",
    "end"
   ]
  },
  {
   "cell_type": "code",
   "execution_count": 214,
   "id": "60432d58",
   "metadata": {},
   "outputs": [
    {
     "name": "stdout",
     "output_type": "stream",
     "text": [
      "0.05 1\n",
      "0.05 11\n",
      "0.05 21\n",
      "0.05 31\n",
      "0.05 41\n",
      "0.1 1\n",
      "0.1 11\n",
      "0.1 21\n",
      "0.1 31\n",
      "0.1 41\n",
      "0.1 51\n",
      "0.1 61\n",
      "0.1 71\n",
      "0.1 81\n",
      "0.15000000000000002 1\n",
      "0.15000000000000002 11\n",
      "0.15000000000000002 21\n",
      "0.15000000000000002 31\n",
      "0.15000000000000002 41\n",
      "0.15000000000000002 51\n",
      "0.15000000000000002 61\n",
      "0.15000000000000002 71\n",
      "0.15000000000000002 81\n",
      "0.15000000000000002 91\n",
      "0.2 1\n",
      "0.2 11\n",
      "0.2 21\n",
      "0.2 31\n",
      "0.2 41\n",
      "0.2 51\n",
      "0.2 61\n",
      "0.2 71\n",
      "0.2 81\n",
      "0.2 91\n",
      "0.25 1\n",
      "0.25 11\n",
      "0.25 21\n",
      "0.25 31\n",
      "0.25 41\n",
      "0.25 51\n",
      "0.25 61\n",
      "0.25 71\n",
      "0.25 81\n",
      "0.25 91\n",
      "0.3 1\n",
      "0.3 11\n",
      "0.3 21\n",
      "0.3 31\n",
      "0.3 41\n",
      "0.3 51\n",
      "0.3 61\n",
      "0.3 71\n",
      "0.3 81\n",
      "0.3 91\n",
      "0.35 1\n",
      "0.35 11\n",
      "0.35 21\n",
      "0.35 31\n",
      "0.35 41\n",
      "0.35 51\n",
      "0.35 61\n",
      "0.35 71\n",
      "0.35 81\n",
      "0.35 91\n",
      "0.39999999999999997 1\n",
      "0.39999999999999997 11\n",
      "0.39999999999999997 21\n",
      "0.39999999999999997 31\n",
      "0.39999999999999997 41\n",
      "0.39999999999999997 51\n",
      "0.39999999999999997 61\n",
      "0.39999999999999997 71\n",
      "0.39999999999999997 81\n",
      "0.39999999999999997 91\n",
      "0.44999999999999996 1\n",
      "0.44999999999999996 11\n",
      "0.44999999999999996 21\n",
      "0.44999999999999996 31\n",
      "0.44999999999999996 41\n",
      "0.44999999999999996 51\n",
      "0.44999999999999996 61\n",
      "0.44999999999999996 71\n",
      "0.44999999999999996 81\n",
      "0.44999999999999996 91\n",
      "0.49999999999999994 1\n",
      "0.49999999999999994 11\n",
      "0.49999999999999994 21\n",
      "0.49999999999999994 31\n",
      "0.49999999999999994 41\n",
      "0.49999999999999994 51\n",
      "0.49999999999999994 61\n",
      "0.49999999999999994 71\n",
      "0.49999999999999994 81\n",
      "0.49999999999999994 91\n",
      "0.5499999999999999 1\n",
      "0.5499999999999999 11\n",
      "0.5499999999999999 21\n",
      "0.5499999999999999 31\n",
      "0.5499999999999999 41\n",
      "0.5499999999999999 51\n",
      "0.5499999999999999 61\n",
      "0.5499999999999999 71\n",
      "0.5499999999999999 81\n",
      "0.5499999999999999 91\n",
      "0.6 1\n",
      "0.6 11\n",
      "0.6 21\n",
      "0.6 31\n",
      "0.6 41\n",
      "0.6 51\n",
      "0.6 61\n",
      "0.6 71\n",
      "0.6 81\n",
      "0.6 91\n",
      "0.65 1\n",
      "0.65 11\n",
      "0.65 21\n",
      "0.65 31\n",
      "0.65 41\n",
      "0.65 51\n",
      "0.65 61\n",
      "0.65 71\n",
      "0.65 81\n",
      "0.65 91\n",
      "0.7000000000000001 1\n",
      "0.7000000000000001 11\n",
      "0.7000000000000001 21\n",
      "0.7000000000000001 31\n",
      "0.7000000000000001 41\n",
      "0.7000000000000001 51\n",
      "0.7000000000000001 61\n",
      "0.7000000000000001 71\n",
      "0.7000000000000001 81\n",
      "0.7000000000000001 91\n",
      "0.7500000000000001 1\n",
      "0.7500000000000001 11\n",
      "0.7500000000000001 21\n",
      "0.7500000000000001 31\n",
      "0.7500000000000001 41\n",
      "0.7500000000000001 51\n",
      "0.7500000000000001 61\n",
      "0.7500000000000001 71\n",
      "0.7500000000000001 81\n",
      "0.7500000000000001 91\n",
      "0.8000000000000002 1\n",
      "0.8000000000000002 11\n",
      "0.8000000000000002 21\n",
      "0.8000000000000002 31\n",
      "0.8000000000000002 41\n",
      "0.8000000000000002 51\n",
      "0.8000000000000002 61\n",
      "0.8000000000000002 71\n",
      "0.8000000000000002 81\n",
      "0.8000000000000002 91\n",
      "0.8500000000000002 1\n",
      "0.8500000000000002 11\n",
      "0.8500000000000002 21\n",
      "0.8500000000000002 31\n",
      "0.8500000000000002 41\n",
      "0.8500000000000002 51\n",
      "0.8500000000000002 61\n",
      "0.8500000000000002 71\n",
      "0.8500000000000002 81\n",
      "0.8500000000000002 91\n",
      "0.9000000000000002 1\n",
      "0.9000000000000002 11\n",
      "0.9000000000000002 21\n",
      "0.9000000000000002 31\n",
      "0.9000000000000002 41\n",
      "0.9000000000000002 51\n",
      "0.9000000000000002 61\n",
      "0.9000000000000002 71\n",
      "0.9000000000000002 81\n",
      "0.9000000000000002 91\n",
      "0.9500000000000003 1\n",
      "0.9500000000000003 11\n",
      "0.9500000000000003 21\n",
      "0.9500000000000003 31\n",
      "0.9500000000000003 41\n",
      "0.9500000000000003 51\n",
      "0.9500000000000003 61\n",
      "0.9500000000000003 71\n",
      "0.9500000000000003 81\n",
      "0.9500000000000003 91\n"
     ]
    },
    {
     "data": {
      "text/plain": [
       "(0.05, 1, -7.326769156088313e-88, -4.4365124485511816e-88, -2.1590487456170956e-89)"
      ]
     },
     "execution_count": 214,
     "metadata": {},
     "output_type": "execute_result"
    }
   ],
   "source": [
    "sir_model(infected, recovered, deceased, P, ᾱ, ρ)"
   ]
  },
  {
   "cell_type": "code",
   "execution_count": null,
   "id": "9237110f",
   "metadata": {},
   "outputs": [],
   "source": [
    "function store_data(infected_df,recovered_df,deceased_df)\n",
    "    infected_cases_data_path = \"data/preprocessed/countries/time_series_covid19_confirmed_global.csv\"\n",
    "    recovered_cases_data_path = \"data/preprocessed/countries/time_series_covid19_recovered_global.csv\"\n",
    "    deceased_cases_data_path = \"data/preprocessed/countries/time_series_covid19_deaths_global.csv\"\n",
    "\n",
    "    CSV.write(infected_cases_data_path, infected_df)\n",
    "#     infected_US = infected_total[infected_total[!, :\"Country/Region\"] .== \"US\", :]\n",
    "#     infected = select(infected_US, Not([:\"Province/State\", :\"Lat\", :\"Long\", :\"Country/Region\"])) #remove columns that are not required\n",
    "\n",
    "    CSV.write(recovered_cases_data_path, recovered_df)\n",
    "#     recovered_US = recovered_total[recovered_total[!, :\"Country/Region\"] .== \"US\", :]\n",
    "#     recovered = select(recovered_US, Not([:\"Province/State\", :\"Lat\", :\"Long\", :\"Country/Region\"])) #remove columns that are not required\n",
    "\n",
    "    CSV.write(deceased_cases_data_path, deceased_df)\n",
    "#     deceased_US = deceased_total[deceased_total[!, :\"Country/Region\"] .== \"US\", :]\n",
    "#     deceased = select(deceased_US, Not([:\"Province/State\", :\"Lat\", :\"Long\", :\"Country/Region\"]))#remove columns that are not required\n",
    "\n",
    "\n",
    "end"
   ]
  },
  {
   "cell_type": "code",
   "execution_count": 35,
   "id": "42770089",
   "metadata": {},
   "outputs": [
    {
     "ename": "LoadError",
     "evalue": "syntax: \"(t + 1)\" is not a valid function argument name around In[35]:6",
     "output_type": "error",
     "traceback": [
      "syntax: \"(t + 1)\" is not a valid function argument name around In[35]:6",
      "",
      "Stacktrace:",
      " [1] top-level scope",
      "   @ In[35]:4",
      " [2] eval",
      "   @ ./boot.jl:360 [inlined]",
      " [3] include_string(mapexpr::typeof(REPL.softscope), mod::Module, code::String, filename::String)",
      "   @ Base ./loading.jl:1116"
     ]
    }
   ],
   "source": [
    "#compute S̃, Ĩ and R̃ of all time t.\n",
    "\n",
    "\n",
    "# if !isfile(\"storage/preprocessed_data.csv\")\n",
    "#     for t = 1:length(infected_total)\n",
    "#         S̃[t] = [ω / α] * P - Ĩ[t] - R̃[t] - D̃[t]\n",
    "#         Ĩ[t + 1] = Ĩ[t] + β * [[S̃[t] * Ĩ[t]] / [S̃[t] + Ĩ[t]]] - γ * Ĩ[t] - ν * Ĩ[t]\n",
    "#         R̃[t + 1] = R̃[t] + γ * Ĩ[t]\n",
    "#         D[t + 1] = D[t] + α * ν * Ĩ[t]\n",
    "#     store_data(infected_df,recovered_df,deceased_df)\n",
    "# end\n",
    "\n",
    "# Store to avoid repeated computing."
   ]
  },
  {
   "cell_type": "code",
   "execution_count": null,
   "id": "9a72daba",
   "metadata": {},
   "outputs": [],
   "source": []
  },
  {
   "cell_type": "code",
   "execution_count": null,
   "id": "e2bd38b6",
   "metadata": {},
   "outputs": [],
   "source": []
  },
  {
   "cell_type": "code",
   "execution_count": null,
   "id": "c82bcffb",
   "metadata": {},
   "outputs": [],
   "source": []
  },
  {
   "cell_type": "code",
   "execution_count": null,
   "id": "26346cba",
   "metadata": {},
   "outputs": [],
   "source": []
  },
  {
   "cell_type": "code",
   "execution_count": null,
   "id": "b48e3a04",
   "metadata": {},
   "outputs": [],
   "source": []
  },
  {
   "cell_type": "code",
   "execution_count": null,
   "id": "6e9a7244",
   "metadata": {},
   "outputs": [],
   "source": []
  },
  {
   "cell_type": "code",
   "execution_count": null,
   "id": "e1a095e9",
   "metadata": {},
   "outputs": [],
   "source": []
  },
  {
   "cell_type": "code",
   "execution_count": null,
   "id": "4e6cedad",
   "metadata": {},
   "outputs": [],
   "source": []
  },
  {
   "cell_type": "code",
   "execution_count": null,
   "id": "f44e2fbd",
   "metadata": {},
   "outputs": [],
   "source": []
  },
  {
   "cell_type": "code",
   "execution_count": null,
   "id": "146d987f",
   "metadata": {},
   "outputs": [],
   "source": []
  }
 ],
 "metadata": {
  "kernelspec": {
   "display_name": "Julia 1.6.2",
   "language": "julia",
   "name": "julia-1.6"
  },
  "language_info": {
   "file_extension": ".jl",
   "mimetype": "application/julia",
   "name": "julia",
   "version": "1.6.2"
  }
 },
 "nbformat": 4,
 "nbformat_minor": 5
}
