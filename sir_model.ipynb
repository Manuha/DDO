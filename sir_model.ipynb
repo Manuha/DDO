{
 "cells": [
  {
   "cell_type": "code",
   "execution_count": 2,
   "id": "a66b31af",
   "metadata": {},
   "outputs": [
    {
     "name": "stderr",
     "output_type": "stream",
     "text": [
      "\u001b[32m\u001b[1m    Updating\u001b[22m\u001b[39m registry at `~/.julia/registries/General`\n",
      "\u001b[32m\u001b[1m   Resolving\u001b[22m\u001b[39m package versions...\n",
      "\u001b[32m\u001b[1m  No Changes\u001b[22m\u001b[39m to `~/.julia/environments/v1.6/Project.toml`\n",
      "\u001b[32m\u001b[1m  No Changes\u001b[22m\u001b[39m to `~/.julia/environments/v1.6/Manifest.toml`\n",
      "\u001b[32m\u001b[1m   Resolving\u001b[22m\u001b[39m package versions...\n",
      "\u001b[32m\u001b[1m  No Changes\u001b[22m\u001b[39m to `~/.julia/environments/v1.6/Project.toml`\n",
      "\u001b[32m\u001b[1m  No Changes\u001b[22m\u001b[39m to `~/.julia/environments/v1.6/Manifest.toml`\n"
     ]
    }
   ],
   "source": [
    "import Pkg;\n",
    "Pkg.add(\"CSV\"); \n",
    "Pkg.add(\"DataFrames\");"
   ]
  },
  {
   "cell_type": "code",
   "execution_count": 3,
   "id": "dd6a7715",
   "metadata": {},
   "outputs": [],
   "source": [
    "using CSV\n",
    "using DataFrames\n",
    "using LinearAlgebra"
   ]
  },
  {
   "cell_type": "code",
   "execution_count": 4,
   "id": "77a7b6c5",
   "metadata": {},
   "outputs": [
    {
     "data": {
      "text/plain": [
       "get_actual_values_from_cumulatives (generic function with 1 method)"
      ]
     },
     "execution_count": 4,
     "metadata": {},
     "output_type": "execute_result"
    }
   ],
   "source": [
    "function get_actual_values_from_cumulatives(cumulative_vector)\n",
    "    shifted_values = zeros(Float64, size(cumulative_vector)[1]+1)\n",
    "    for (index, value) in enumerate(cumulative_vector)\n",
    "       shifted_values[index+1] = value  \n",
    "    end\n",
    "\n",
    "    final_values = zeros(Float64, size(cumulative_vector)[1])\n",
    "    for (index, value) in enumerate(cumulative_vector)\n",
    "       final_values[index] = -shifted_values[index]+cumulative_vector[index]  \n",
    "    end\n",
    "    return final_values\n",
    "end"
   ]
  },
  {
   "cell_type": "markdown",
   "id": "3ae14849",
   "metadata": {},
   "source": [
    "Read data. Data downloaded from https://data.humdata.org/dataset/novel-coronavirus-2019-ncov-cases\n",
    "\n",
    "**Note: recovered data for US  available only until Dec 13, 2020**"
   ]
  },
  {
   "cell_type": "code",
   "execution_count": 34,
   "id": "9f01f1e9",
   "metadata": {},
   "outputs": [
    {
     "data": {
      "text/plain": [
       "327-element Vector{Int64}:\n",
       "      0\n",
       "      0\n",
       "      0\n",
       "      0\n",
       "      0\n",
       "      0\n",
       "      0\n",
       "      0\n",
       "      0\n",
       "      0\n",
       "      0\n",
       "      0\n",
       "      0\n",
       "      ⋮\n",
       " 276209\n",
       " 279178\n",
       " 281790\n",
       " 284180\n",
       " 285583\n",
       " 287142\n",
       " 289725\n",
       " 292906\n",
       " 295892\n",
       " 299273\n",
       " 301806\n",
       " 303465"
      ]
     },
     "execution_count": 34,
     "metadata": {},
     "output_type": "execute_result"
    }
   ],
   "source": [
    "infected_cases_data_path = \"../DDO_2/data/countries/time_series_covid19_confirmed_global.csv\"\n",
    "recovered_cases_data_path = \"../DDO_2/data/countries/time_series_covid19_recovered_global.csv\"\n",
    "deceased_cases_data_path = \"../DDO_2/data/countries/time_series_covid19_deaths_global.csv\"\n",
    "\n",
    "infected_total = CSV.read(infected_cases_data_path, DataFrame)\n",
    "infected_US = infected_total[infected_total[!, :\"Country/Region\"] .== \"US\", :]\n",
    "infected = select(infected_US, Not([:\"Province/State\", :\"Lat\", :\"Long\", :\"Country/Region\"])) #remove columns that are not required\n",
    "\n",
    "recovered_total = CSV.read(recovered_cases_data_path, DataFrame)\n",
    "\n",
    "recovered_US = recovered_total[recovered_total[!, :\"Country/Region\"] .== \"US\", :]\n",
    "recovered = select(recovered_US, Not([:\"Province/State\", :\"Lat\", :\"Long\", :\"Country/Region\"])) #remove columns that are not required\n",
    "\n",
    "\n",
    "deceased_total = CSV.read(deceased_cases_data_path, DataFrame)\n",
    "deceased_US = deceased_total[deceased_total[!, :\"Country/Region\"] .== \"US\", :]\n",
    "deceased = select(deceased_US, Not([:\"Province/State\", :\"Lat\", :\"Long\", :\"Country/Region\"]))#remove columns that are not required\n",
    "\n",
    "\n",
    "# #convert to matrices\n",
    "\n",
    "infected = Matrix(infected)'[1:327]\n",
    "recovered = Matrix(recovered)'[1:327] #considering only until Dec 13 2020.\n",
    "deceased = Matrix(deceased)'[1:327]\n",
    "\n",
    "# infected = get_actual_values_from_cumulatives(infected)\n",
    "# recovered = get_actual_values_from_cumulatives(recovered)\n",
    "# deceased = get_actual_values_from_cumulatives(deceased)\n",
    "\n",
    "#todo:\n",
    "#start date: all three non zero\n",
    "#ρ\n"
   ]
  },
  {
   "cell_type": "code",
   "execution_count": null,
   "id": "d507ee32",
   "metadata": {},
   "outputs": [],
   "source": []
  },
  {
   "cell_type": "markdown",
   "id": "7d55bfba",
   "metadata": {},
   "source": [
    "Algorithm:\n",
    "\n",
    "Equations:\n",
    "    I(t) = αĨ(t)\n",
    "\n",
    "    R(t) = αR̃(t)\n",
    "\n",
    "    S(t) = αS̃(t)\n",
    "\n",
    "where I(t), R(t) and S(t) are the actual number of infected, recovered and susceptible population at time t and α≥1;\n",
    "   \n",
    "    S(t₀) = ωP\n",
    "\n",
    "where ωϵ[0,1] and P is the total population.\n",
    "\n",
    "S̃(t + 1) = S̃(t) - β * (S̃(t) * Ĩ(t)) ÷ (S̃(t) + Ĩ(t))\n",
    "Ĩ(t + 1) = Ĩ(t) + β * (S̃(t) * Ĩ(t)) ÷ (S̃(t) + Ĩ(t)) - γ * Ĩ(t) - ν * Ĩ(t)\n",
    "R̃(t + 1) = R̃(t) + γ * Ĩ(t)\n",
    "D(t + 1) = D(t) + α * ν * Ĩ(t)\n",
    "\n",
    "where\n",
    "    I(t) = αĨ(t)\n",
    "\n",
    "    R(t) = αR̃(t)\n",
    "\n",
    "    S(t) = αS̃(t)\n",
    "\n",
    "where I(t), R(t) and S(t) are the actual number of infected, recovered and susceptible population at time t and α≥1;\n",
    "   \n",
    "    S(t₀) = ωP\n",
    "\n",
    "where ωϵ[0,1] and P is the total population.\n",
    "\n",
    "    S̃(t) = (ω ÷ α) * P - Ĩ(t) - R̃(t) - D̃(t)\n",
    "\n",
    "    Δ(t) = [Ĩ(t + 1)-Ĩ(t); R̃(t + 1)-R̃(t); D̃(t + 1)-D̃(t)]\n",
    "    Δ(t) = Φ_ωα(t) = [S̃(t)-β*(S̃(t)*Ĩ(t))÷(S̃(t)+Ĩ(t)) -Ĩ(t) -Ĩ(t)÷α; 0 Ĩ(t) 0; 0 0 Ĩ(t)]\n",
    "    \n",
    "    Δ̄ = [ρ^(Θ -t₀)Δ(t₀); ρ^(Θ -t₀-1)Δ(t₀+1); ρ^(Θ -t₀-2)Δ(t₀+2)...Δ(Θ)]\n",
    "    Φ̄_ωα = [ρ^(Θ -t₀)Φ_ωα(t₀); ρ^(Θ -t₀-1)Φ_ωα(t₀+1); ρ^(Θ -t₀-2)Φ_ωα(t₀+2)...Φ_ωα(Θ)]\n",
    "\n",
    "where ρϵ(0,1)\n"
   ]
  },
  {
   "cell_type": "markdown",
   "id": "727c4345",
   "metadata": {},
   "source": [
    "Steps:\n",
    "1. Input: data Ĩ(t), R̃(t), and D(t), maximum value ᾱ of α, weighting parameter ρ, and total population P\n",
    "\n",
    "outputs -> ω⋆, α⋆, β⋆, γ⋆, ν̄⋆\n"
   ]
  },
  {
   "cell_type": "code",
   "execution_count": 32,
   "id": "b10b1aa5",
   "metadata": {},
   "outputs": [
    {
     "data": {
      "text/plain": [
       "1"
      ]
     },
     "execution_count": 32,
     "metadata": {},
     "output_type": "execute_result"
    }
   ],
   "source": [
    "#we have Ĩ(t) and R̃(t) and D(t) in infected, recovered and deceased dataframes.\n",
    "P = 332902734 #https://www.census.gov/popclock/\n",
    "ᾱ = 10      # ᾱ*Infected + ᾱ*Recovered + ᾱ*Deceased < ω*Population\n",
    "ρ = 1 \n"
   ]
  },
  {
   "cell_type": "code",
   "execution_count": 23,
   "id": "10f4af00",
   "metadata": {},
   "outputs": [
    {
     "data": {
      "text/plain": [
       "get_susceptible (generic function with 1 method)"
      ]
     },
     "execution_count": 23,
     "metadata": {},
     "output_type": "execute_result"
    }
   ],
   "source": [
    "function get_susceptible(ω, α, P, Ĩ, R̃, D)\n",
    "    population = zeros(Float64, size(Ĩ)[1])\n",
    "    fill!(population, ω*P/α)\n",
    "    return population-infected-recovered-deceased\n",
    "end"
   ]
  },
  {
   "cell_type": "code",
   "execution_count": 24,
   "id": "0aed95e8",
   "metadata": {},
   "outputs": [
    {
     "data": {
      "text/plain": [
       "invalid (generic function with 1 method)"
      ]
     },
     "execution_count": 24,
     "metadata": {},
     "output_type": "execute_result"
    }
   ],
   "source": [
    "function invalid(vector_values)\n",
    "    for (index, value) in enumerate(vector_values)\n",
    "        if value < 0\n",
    "            return true\n",
    "        end\n",
    "    end\n",
    "    return false\n",
    "end"
   ]
  },
  {
   "cell_type": "code",
   "execution_count": 25,
   "id": "c8de9d0d",
   "metadata": {},
   "outputs": [
    {
     "data": {
      "text/plain": [
       "computeΔ̄ (generic function with 1 method)"
      ]
     },
     "execution_count": 25,
     "metadata": {},
     "output_type": "execute_result"
    }
   ],
   "source": [
    "function computeΔ̄(Ĩ, R̃, D, ρ)\n",
    "    Θ = size(Ĩ)[1]\n",
    "    \n",
    "    ρmatrix = zeros(Float64, Θ)\n",
    "    for i in 1:Θ\n",
    "        power = Θ-i\n",
    "        ρmatrix[i] = ρ^power\n",
    "    end\n",
    "    \n",
    "    Δ̄ = zeros(Float64, 3Θ)\n",
    "    for i in 1:Θ-1\n",
    "        Δ̄[3(i-1)+1] = ρmatrix[i]*(Ĩ[i+1]-Ĩ[i])\n",
    "        Δ̄[3(i-1)+2] = ρmatrix[i]*(R̃[i+1]-R̃[i])\n",
    "        Δ̄[3(i-1)+3] = ρmatrix[i]*(D[i+1]-D[i])\n",
    "    end\n",
    "    \n",
    "    Δ̄[3(Θ-1)+1] = ρmatrix[Θ]*(Ĩ[Θ])\n",
    "    Δ̄[3(Θ-1)+2] = ρmatrix[Θ]*(R̃[Θ])\n",
    "    Δ̄[3(Θ-1)+3] = ρmatrix[Θ]*(D[Θ])\n",
    "\n",
    "    return Δ̄\n",
    "end"
   ]
  },
  {
   "cell_type": "code",
   "execution_count": 26,
   "id": "53db4b95",
   "metadata": {},
   "outputs": [
    {
     "data": {
      "text/plain": [
       "computeΦ (generic function with 1 method)"
      ]
     },
     "execution_count": 26,
     "metadata": {},
     "output_type": "execute_result"
    }
   ],
   "source": [
    "function computeΦ(ω, α, S̃, Ĩ)\n",
    "    Θ = size(Ĩ)[1]\n",
    "    \n",
    "    ρmatrix = zeros(Float64, Θ)\n",
    "    for i in 1:Θ\n",
    "        power = Θ-i\n",
    "        ρmatrix[i] = ρ^power\n",
    "    end\n",
    "    \n",
    "    Φ = zeros(Float64, 3Θ, 3)\n",
    "    i=1\n",
    "    while i<Θ\n",
    "        Φ[i] = ρmatrix[i]*(S̃[i]*Ĩ[i])/ (S̃[i]+Ĩ[i])\n",
    "        Φ[3*Θ+i] = -1*ρmatrix[i]*Ĩ[i]\n",
    "        Φ[6*Θ+i] = -1*ρmatrix[i]*Ĩ[i]/α\n",
    "        Φ[i+1] = 0\n",
    "        Φ[3*Θ+i+1] = ρmatrix[i]*Ĩ[i]\n",
    "        Φ[6*Θ+i+1] = 0\n",
    "        Φ[i+2] = 0\n",
    "        Φ[3*Θ+i+2] = 0\n",
    "        Φ[6*Θ+i+2] = ρmatrix[i]*Ĩ[i]\n",
    "        i+=3\n",
    "    end\n",
    "    return Φ\n",
    "    \n",
    "end\n",
    "\n",
    "# S̃ = get_susceptible(0.5, 2, P, infected, recovered, deceased)\n",
    "# computeΦ(0.5, 2, S̃, infected)\n"
   ]
  },
  {
   "cell_type": "code",
   "execution_count": 27,
   "id": "2fb40bc5",
   "metadata": {},
   "outputs": [
    {
     "data": {
      "text/plain": [
       "computeParameters (generic function with 1 method)"
      ]
     },
     "execution_count": 27,
     "metadata": {},
     "output_type": "execute_result"
    }
   ],
   "source": [
    "function computeParameters(Φ̄, Δ̄)\n",
    "    @time pseudo_inv = pinv(Φ̄)\n",
    "    params = pseudo_inv * Δ̄\n",
    "    return params\n",
    "end"
   ]
  },
  {
   "cell_type": "code",
   "execution_count": 28,
   "id": "505488ed",
   "metadata": {
    "scrolled": false
   },
   "outputs": [
    {
     "data": {
      "text/plain": [
       "error_ (generic function with 1 method)"
      ]
     },
     "execution_count": 28,
     "metadata": {},
     "output_type": "execute_result"
    }
   ],
   "source": [
    "function error_(Δ̄, Φ̄, params)\n",
    "    param_matrix = zeros(Float64, 3, 1)\n",
    "    param_matrix[1] = params[1]\n",
    "    param_matrix[2] = params[2]\n",
    "    param_matrix[3] = params[3]\n",
    "    \n",
    "    diff = Δ̄-(Φ̄*param_matrix)\n",
    "    return norm(diff)^2\n",
    "end\n",
    "\n",
    "# M = [1.5 1.3; 1.2 1.9]\n",
    "# N = [2,4]\n",
    "# params = computeParameters(M, N)\n",
    "# error_(N, M, params)\n",
    "# # print(params)\n"
   ]
  },
  {
   "cell_type": "code",
   "execution_count": 31,
   "id": "9877c4d5",
   "metadata": {},
   "outputs": [
    {
     "data": {
      "text/plain": [
       "sir_model (generic function with 1 method)"
      ]
     },
     "execution_count": 31,
     "metadata": {},
     "output_type": "execute_result"
    }
   ],
   "source": [
    "function sir_model(Ĩ, R̃, D, P, ᾱ, ρ)\n",
    "    e = Inf\n",
    "    Δ̄ = computeΔ̄(Ĩ, R̃, D, ρ)\n",
    "    ω_ = Inf\n",
    "    α_ = Inf\n",
    "    β_ = Inf\n",
    "    γ_ = Inf\n",
    "    ν̃_ = Inf\n",
    "    ω = 0 \n",
    "    \n",
    "    while ω ≤ 1\n",
    "        α = 1\n",
    "        while α ≤ ᾱ\n",
    "            S̃ = get_susceptible(ω, α, P, Ĩ, R̃, D)\n",
    "            if invalid(S̃)\n",
    "                break\n",
    "            end\n",
    "            \n",
    "            Φ̄ = computeΦ(ω, α, S̃, Ĩ)\n",
    "            params = computeParameters(Φ̄, Δ̄)\n",
    "            β = params[1]\n",
    "            γ = params[2]\n",
    "            ν̃ = params[3]\n",
    "            if(β<0 || γ<0 || ν̃<0)\n",
    "                print(ω)\n",
    "                print(\" \")\n",
    "                print(params)\n",
    "                print(\" \")\n",
    "                println(α)\n",
    "            end\n",
    "            error_value = error_(Δ̄, Φ̄, params)\n",
    "            if error_value < e\n",
    "                e = error_value\n",
    "                ω_ = ω\n",
    "                α_ = α\n",
    "                β_ = β\n",
    "                γ_ = γ\n",
    "                ν̃_ = ν̃\n",
    "            end\n",
    "            α+=0.5\n",
    "        end\n",
    "        ω+=0.05\n",
    "    end\n",
    "    return ω_, α_, β_, γ_, ν̃_\n",
    "end"
   ]
  },
  {
   "cell_type": "code",
   "execution_count": 35,
   "id": "60432d58",
   "metadata": {},
   "outputs": [
    {
     "name": "stdout",
     "output_type": "stream",
     "text": [
      "  0.000251 seconds (21 allocations: 95.359 KiB)\n",
      "  0.000198 seconds (21 allocations: 95.359 KiB)\n",
      "  0.000235 seconds (21 allocations: 95.359 KiB)\n",
      "  0.000242 seconds (21 allocations: 95.359 KiB)\n",
      "  0.000214 seconds (21 allocations: 95.359 KiB)\n",
      "  0.000199 seconds (21 allocations: 95.359 KiB)\n",
      "  0.000193 seconds (21 allocations: 95.359 KiB)\n",
      "  0.000198 seconds (21 allocations: 95.359 KiB)\n",
      "  0.000201 seconds (21 allocations: 95.359 KiB)\n",
      "  0.000195 seconds (21 allocations: 95.359 KiB)\n",
      "  0.000204 seconds (21 allocations: 95.359 KiB)\n",
      "  0.000196 seconds (21 allocations: 95.359 KiB)\n",
      "  0.000196 seconds (21 allocations: 95.359 KiB)\n",
      "  0.000201 seconds (21 allocations: 95.359 KiB)\n",
      "  0.000194 seconds (21 allocations: 95.359 KiB)\n",
      "  0.000194 seconds (21 allocations: 95.359 KiB)\n",
      "  0.000202 seconds (21 allocations: 95.359 KiB)\n",
      "  0.000211 seconds (21 allocations: 95.359 KiB)\n",
      "  0.000214 seconds (21 allocations: 95.359 KiB)\n",
      "  0.000211 seconds (21 allocations: 95.359 KiB)\n",
      "  0.000216 seconds (21 allocations: 95.359 KiB)\n",
      "  0.000212 seconds (21 allocations: 95.359 KiB)\n",
      "  0.000212 seconds (21 allocations: 95.359 KiB)\n",
      "  0.000211 seconds (21 allocations: 95.359 KiB)\n",
      "  0.000212 seconds (21 allocations: 95.359 KiB)\n",
      "  0.000215 seconds (21 allocations: 95.359 KiB)\n",
      "  0.000211 seconds (21 allocations: 95.359 KiB)\n",
      "  0.000214 seconds (21 allocations: 95.359 KiB)\n",
      "  0.000210 seconds (21 allocations: 95.359 KiB)\n",
      "  0.000210 seconds (21 allocations: 95.359 KiB)\n",
      "  0.000209 seconds (21 allocations: 95.359 KiB)\n",
      "  0.000232 seconds (21 allocations: 95.359 KiB)\n",
      "  0.000211 seconds (21 allocations: 95.359 KiB)\n",
      "  0.000196 seconds (21 allocations: 95.359 KiB)\n",
      "  0.000195 seconds (21 allocations: 95.359 KiB)\n",
      "  0.000194 seconds (21 allocations: 95.359 KiB)\n",
      "  0.000200 seconds (21 allocations: 95.359 KiB)\n",
      "  0.000193 seconds (21 allocations: 95.359 KiB)\n",
      "  0.000193 seconds (21 allocations: 95.359 KiB)\n",
      "  0.000193 seconds (21 allocations: 95.359 KiB)\n",
      "  0.000193 seconds (21 allocations: 95.359 KiB)\n",
      "  0.000194 seconds (21 allocations: 95.359 KiB)\n",
      "  0.000194 seconds (21 allocations: 95.359 KiB)\n",
      "  0.000194 seconds (21 allocations: 95.359 KiB)\n",
      "  0.000194 seconds (21 allocations: 95.359 KiB)\n",
      "  0.000194 seconds (21 allocations: 95.359 KiB)\n",
      "  0.000195 seconds (21 allocations: 95.359 KiB)\n",
      "  0.000195 seconds (21 allocations: 95.359 KiB)\n",
      "  0.000196 seconds (21 allocations: 95.359 KiB)\n",
      "  0.000193 seconds (21 allocations: 95.359 KiB)\n",
      "  0.000194 seconds (21 allocations: 95.359 KiB)\n",
      "  0.000194 seconds (21 allocations: 95.359 KiB)\n",
      "  0.000193 seconds (21 allocations: 95.359 KiB)\n",
      "  0.000193 seconds (21 allocations: 95.359 KiB)\n",
      "  0.000196 seconds (21 allocations: 95.359 KiB)\n",
      "  0.000193 seconds (21 allocations: 95.359 KiB)\n",
      "  0.000194 seconds (21 allocations: 95.359 KiB)\n",
      "  0.000194 seconds (21 allocations: 95.359 KiB)\n",
      "  0.000193 seconds (21 allocations: 95.359 KiB)\n",
      "  0.000193 seconds (21 allocations: 95.359 KiB)\n",
      "  0.000201 seconds (21 allocations: 95.359 KiB)\n",
      "  0.000201 seconds (21 allocations: 95.359 KiB)\n",
      "  0.000197 seconds (21 allocations: 95.359 KiB)\n",
      "  0.000201 seconds (21 allocations: 95.359 KiB)\n",
      "  0.000196 seconds (21 allocations: 95.359 KiB)\n",
      "  0.000202 seconds (21 allocations: 95.359 KiB)\n",
      "  0.000205 seconds (21 allocations: 95.359 KiB)\n",
      "  0.000199 seconds (21 allocations: 95.359 KiB)\n",
      "  0.000200 seconds (21 allocations: 95.359 KiB)\n",
      "  0.000204 seconds (21 allocations: 95.359 KiB)\n",
      "  0.000196 seconds (21 allocations: 95.359 KiB)\n",
      "  0.000196 seconds (21 allocations: 95.359 KiB)\n",
      "  0.000198 seconds (21 allocations: 95.359 KiB)\n",
      "  0.000206 seconds (21 allocations: 95.359 KiB)\n",
      "  0.000197 seconds (21 allocations: 95.359 KiB)\n",
      "  0.000195 seconds (21 allocations: 95.359 KiB)\n",
      "  0.000202 seconds (21 allocations: 95.359 KiB)\n",
      "  0.000196 seconds (21 allocations: 95.359 KiB)\n",
      "  0.000197 seconds (21 allocations: 95.359 KiB)\n",
      "  0.000205 seconds (21 allocations: 95.359 KiB)\n",
      "  0.000202 seconds (21 allocations: 95.359 KiB)\n",
      "  0.000197 seconds (21 allocations: 95.359 KiB)\n",
      "  0.000203 seconds (21 allocations: 95.359 KiB)\n",
      "  0.000198 seconds (21 allocations: 95.359 KiB)\n",
      "  0.000199 seconds (21 allocations: 95.359 KiB)\n",
      "  0.000194 seconds (21 allocations: 95.359 KiB)\n",
      "  0.000196 seconds (21 allocations: 95.359 KiB)\n",
      "  0.000194 seconds (21 allocations: 95.359 KiB)\n",
      "  0.000194 seconds (21 allocations: 95.359 KiB)\n",
      "  0.000194 seconds (21 allocations: 95.359 KiB)\n",
      "  0.000195 seconds (21 allocations: 95.359 KiB)\n",
      "  0.000196 seconds (21 allocations: 95.359 KiB)\n",
      "  0.000193 seconds (21 allocations: 95.359 KiB)\n",
      "  0.000193 seconds (21 allocations: 95.359 KiB)\n",
      "  0.000194 seconds (21 allocations: 95.359 KiB)\n",
      "  0.000194 seconds (21 allocations: 95.359 KiB)\n",
      "  0.000194 seconds (21 allocations: 95.359 KiB)\n",
      "  0.000194 seconds (21 allocations: 95.359 KiB)\n",
      "  0.000193 seconds (21 allocations: 95.359 KiB)\n",
      "  0.000193 seconds (21 allocations: 95.359 KiB)\n",
      "  0.000196 seconds (21 allocations: 95.359 KiB)\n",
      "  0.000196 seconds (21 allocations: 95.359 KiB)\n",
      "  0.000193 seconds (21 allocations: 95.359 KiB)\n",
      "  0.000194 seconds (21 allocations: 95.359 KiB)\n",
      "  0.000193 seconds (21 allocations: 95.359 KiB)\n",
      "  0.000194 seconds (21 allocations: 95.359 KiB)\n",
      "  0.000201 seconds (21 allocations: 95.359 KiB)\n",
      "  0.000198 seconds (21 allocations: 95.359 KiB)\n",
      "  0.000193 seconds (21 allocations: 95.359 KiB)\n",
      "  0.000194 seconds (21 allocations: 95.359 KiB)\n",
      "  0.000193 seconds (21 allocations: 95.359 KiB)\n",
      "  0.000197 seconds (21 allocations: 95.359 KiB)\n",
      "  0.000195 seconds (21 allocations: 95.359 KiB)\n",
      "  0.000196 seconds (21 allocations: 95.359 KiB)\n",
      "  0.000194 seconds (21 allocations: 95.359 KiB)\n",
      "  0.000210 seconds (21 allocations: 95.359 KiB)\n",
      "  0.000200 seconds (21 allocations: 95.359 KiB)\n",
      "  0.000197 seconds (21 allocations: 95.359 KiB)\n",
      "  0.000198 seconds (21 allocations: 95.359 KiB)\n",
      "  0.000205 seconds (21 allocations: 95.359 KiB)\n",
      "  0.000201 seconds (21 allocations: 95.359 KiB)\n",
      "  0.000198 seconds (21 allocations: 95.359 KiB)\n",
      "  0.000198 seconds (21 allocations: 95.359 KiB)\n",
      "  0.000201 seconds (21 allocations: 95.359 KiB)\n",
      "  0.000197 seconds (21 allocations: 95.359 KiB)\n",
      "  0.000201 seconds (21 allocations: 95.359 KiB)\n",
      "  0.000197 seconds (21 allocations: 95.359 KiB)\n",
      "  0.000198 seconds (21 allocations: 95.359 KiB)\n",
      "  0.000201 seconds (21 allocations: 95.359 KiB)\n",
      "  0.000199 seconds (21 allocations: 95.359 KiB)\n",
      "  0.000198 seconds (21 allocations: 95.359 KiB)\n",
      "  0.000214 seconds (21 allocations: 95.359 KiB)\n",
      "  0.000206 seconds (21 allocations: 95.359 KiB)\n",
      "  0.000202 seconds (21 allocations: 95.359 KiB)\n",
      "  0.000198 seconds (21 allocations: 95.359 KiB)\n",
      "  0.000201 seconds (21 allocations: 95.359 KiB)\n",
      "  0.000201 seconds (21 allocations: 95.359 KiB)\n",
      "  0.000198 seconds (21 allocations: 95.359 KiB)\n",
      "  0.000200 seconds (21 allocations: 95.359 KiB)\n",
      "  0.000196 seconds (21 allocations: 95.359 KiB)\n",
      "  0.000199 seconds (21 allocations: 95.359 KiB)\n",
      "  0.000201 seconds (21 allocations: 95.359 KiB)\n",
      "  0.000200 seconds (21 allocations: 95.359 KiB)\n",
      "  0.000199 seconds (21 allocations: 95.359 KiB)\n",
      "  0.000196 seconds (21 allocations: 95.359 KiB)\n",
      "  0.000199 seconds (21 allocations: 95.359 KiB)\n",
      "  0.000197 seconds (21 allocations: 95.359 KiB)\n",
      "  0.000202 seconds (21 allocations: 95.359 KiB)\n",
      "  0.000198 seconds (21 allocations: 95.359 KiB)\n",
      "  0.000203 seconds (21 allocations: 95.359 KiB)\n",
      "  0.000202 seconds (21 allocations: 95.359 KiB)\n",
      "  0.000196 seconds (21 allocations: 95.359 KiB)\n",
      "  0.000193 seconds (21 allocations: 95.359 KiB)\n",
      "  0.016537 seconds (21 allocations: 95.359 KiB, 98.71% gc time)\n",
      "  0.000221 seconds (21 allocations: 95.359 KiB)\n",
      "  0.000198 seconds (21 allocations: 95.359 KiB)\n",
      "  0.000195 seconds (21 allocations: 95.359 KiB)\n",
      "  0.000195 seconds (21 allocations: 95.359 KiB)\n",
      "  0.000211 seconds (21 allocations: 95.359 KiB)\n",
      "  0.000215 seconds (21 allocations: 95.359 KiB)\n",
      "  0.000218 seconds (21 allocations: 95.359 KiB)\n",
      "  0.000214 seconds (21 allocations: 95.359 KiB)\n",
      "  0.000218 seconds (21 allocations: 95.359 KiB)\n",
      "  0.000225 seconds (21 allocations: 95.359 KiB)\n",
      "  0.000220 seconds (21 allocations: 95.359 KiB)\n",
      "  0.000212 seconds (21 allocations: 95.359 KiB)\n",
      "  0.000215 seconds (21 allocations: 95.359 KiB)\n",
      "  0.000210 seconds (21 allocations: 95.359 KiB)\n",
      "  0.000205 seconds (21 allocations: 95.359 KiB)\n",
      "  0.000207 seconds (21 allocations: 95.359 KiB)\n",
      "  0.000207 seconds (21 allocations: 95.359 KiB)\n",
      "  0.000208 seconds (21 allocations: 95.359 KiB)\n",
      "  0.000211 seconds (21 allocations: 95.359 KiB)\n",
      "  0.000207 seconds (21 allocations: 95.359 KiB)\n",
      "  0.000206 seconds (21 allocations: 95.359 KiB)\n",
      "  0.000206 seconds (21 allocations: 95.359 KiB)\n",
      "  0.000202 seconds (21 allocations: 95.359 KiB)\n",
      "  0.000201 seconds (21 allocations: 95.359 KiB)\n",
      "  0.000203 seconds (21 allocations: 95.359 KiB)\n",
      "  0.000216 seconds (21 allocations: 95.359 KiB)\n",
      "  0.000218 seconds (21 allocations: 95.359 KiB)\n",
      "  0.000218 seconds (21 allocations: 95.359 KiB)\n",
      "  0.000219 seconds (21 allocations: 95.359 KiB)\n",
      "  0.000219 seconds (21 allocations: 95.359 KiB)\n",
      "  0.000217 seconds (21 allocations: 95.359 KiB)\n",
      "  0.000211 seconds (21 allocations: 95.359 KiB)\n",
      "  0.000210 seconds (21 allocations: 95.359 KiB)\n",
      "  0.000211 seconds (21 allocations: 95.359 KiB)\n",
      "  0.000211 seconds (21 allocations: 95.359 KiB)\n",
      "  0.000210 seconds (21 allocations: 95.359 KiB)\n",
      "  0.000213 seconds (21 allocations: 95.359 KiB)\n",
      "  0.000251 seconds (21 allocations: 95.359 KiB)\n",
      "  0.000210 seconds (21 allocations: 95.359 KiB)\n",
      "  0.000206 seconds (21 allocations: 95.359 KiB)\n",
      "  0.000203 seconds (21 allocations: 95.359 KiB)\n",
      "  0.000204 seconds (21 allocations: 95.359 KiB)\n",
      "  0.000210 seconds (21 allocations: 95.359 KiB)\n",
      "  0.000236 seconds (21 allocations: 95.359 KiB)\n",
      "  0.000216 seconds (21 allocations: 95.359 KiB)\n",
      "  0.000220 seconds (21 allocations: 95.359 KiB)\n",
      "  0.000219 seconds (21 allocations: 95.359 KiB)\n",
      "  0.000222 seconds (21 allocations: 95.359 KiB)\n",
      "  0.000219 seconds (21 allocations: 95.359 KiB)\n",
      "  0.000219 seconds (21 allocations: 95.359 KiB)\n",
      "  0.000224 seconds (21 allocations: 95.359 KiB)\n",
      "  0.000218 seconds (21 allocations: 95.359 KiB)\n",
      "  0.000218 seconds (21 allocations: 95.359 KiB)\n",
      "  0.000222 seconds (21 allocations: 95.359 KiB)\n",
      "  0.000218 seconds (21 allocations: 95.359 KiB)\n",
      "  0.000218 seconds (21 allocations: 95.359 KiB)\n",
      "  0.000220 seconds (21 allocations: 95.359 KiB)\n",
      "  0.000219 seconds (21 allocations: 95.359 KiB)\n",
      "  0.000219 seconds (21 allocations: 95.359 KiB)\n",
      "  0.000219 seconds (21 allocations: 95.359 KiB)\n",
      "  0.000217 seconds (21 allocations: 95.359 KiB)\n",
      "  0.000220 seconds (21 allocations: 95.359 KiB)\n",
      "  0.000218 seconds (21 allocations: 95.359 KiB)\n",
      "  0.000219 seconds (21 allocations: 95.359 KiB)\n",
      "  0.000219 seconds (21 allocations: 95.359 KiB)\n",
      "  0.000222 seconds (21 allocations: 95.359 KiB)\n",
      "  0.000228 seconds (21 allocations: 95.359 KiB)\n",
      "  0.000240 seconds (21 allocations: 95.359 KiB)\n",
      "  0.000239 seconds (21 allocations: 95.359 KiB)\n",
      "  0.000226 seconds (21 allocations: 95.359 KiB)\n",
      "  0.000219 seconds (21 allocations: 95.359 KiB)\n"
     ]
    },
    {
     "data": {
      "text/plain": [
       "(0.7500000000000001, 8.0, 0.0055165468718946465, 0.0005384495099525701, 0.00018263517386510065)"
      ]
     },
     "execution_count": 35,
     "metadata": {},
     "output_type": "execute_result"
    }
   ],
   "source": [
    "sir_model(infected, recovered, deceased, P, ᾱ, ρ)"
   ]
  },
  {
   "cell_type": "code",
   "execution_count": null,
   "id": "0731bfa7",
   "metadata": {},
   "outputs": [],
   "source": [
    "function steepest_descent(Ĩ, R̃, D, P, ᾱ, ρ)\n",
    "    e = Inf\n",
    "    Δ̄ = computeΔ̄(Ĩ, R̃, D, ρ)\n",
    "    ω_ = Inf\n",
    "    α_ = Inf\n",
    "    β_ = Inf\n",
    "    γ_ = Inf\n",
    "    ν̃_ = Inf\n",
    "    ω = 0 \n",
    "    \n",
    "    while ω ≤ 1\n",
    "        α = 1\n",
    "        while α ≤ ᾱ\n",
    "            S̃ = get_susceptible(ω, α, P, Ĩ, R̃, D)\n",
    "            if invalid(S̃)\n",
    "                break\n",
    "            end\n",
    "            \n",
    "            Φ̄ = computeΦ(ω, α, S̃, Ĩ)\n",
    "            params = computeParameters(Φ̄, Δ̄)\n",
    "            β = params[1]\n",
    "            γ = params[2]\n",
    "            ν̃ = params[3]\n",
    "            error_value = error_(Δ̄, Φ̄, params)\n",
    "            if error_value < e\n",
    "                e = error_value\n",
    "                ω_ = ω\n",
    "                α_ = α\n",
    "                β_ = β\n",
    "                γ_ = γ\n",
    "                ν̃_ = ν̃\n",
    "            end\n",
    "            α+=10\n",
    "        end\n",
    "        ω+=0.05\n",
    "    end\n",
    "    return ω_, α_, β_, γ_, ν̃_\n",
    "end"
   ]
  },
  {
   "cell_type": "code",
   "execution_count": null,
   "id": "9237110f",
   "metadata": {},
   "outputs": [],
   "source": [
    "function store_data(infected_df,recovered_df,deceased_df)\n",
    "    infected_cases_data_path = \"data/preprocessed/countries/time_series_covid19_confirmed_global.csv\"\n",
    "    recovered_cases_data_path = \"data/preprocessed/countries/time_series_covid19_recovered_global.csv\"\n",
    "    deceased_cases_data_path = \"data/preprocessed/countries/time_series_covid19_deaths_global.csv\"\n",
    "\n",
    "    CSV.write(infected_cases_data_path, infected_df)\n",
    "#     infected_US = infected_total[infected_total[!, :\"Country/Region\"] .== \"US\", :]\n",
    "#     infected = select(infected_US, Not([:\"Province/State\", :\"Lat\", :\"Long\", :\"Country/Region\"])) #remove columns that are not required\n",
    "\n",
    "    CSV.write(recovered_cases_data_path, recovered_df)\n",
    "#     recovered_US = recovered_total[recovered_total[!, :\"Country/Region\"] .== \"US\", :]\n",
    "#     recovered = select(recovered_US, Not([:\"Province/State\", :\"Lat\", :\"Long\", :\"Country/Region\"])) #remove columns that are not required\n",
    "\n",
    "    CSV.write(deceased_cases_data_path, deceased_df)\n",
    "#     deceased_US = deceased_total[deceased_total[!, :\"Country/Region\"] .== \"US\", :]\n",
    "#     deceased = select(deceased_US, Not([:\"Province/State\", :\"Lat\", :\"Long\", :\"Country/Region\"]))#remove columns that are not required\n",
    "\n",
    "\n",
    "end"
   ]
  },
  {
   "cell_type": "code",
   "execution_count": 1,
   "id": "42770089",
   "metadata": {},
   "outputs": [],
   "source": [
    "#compute S̃, Ĩ and R̃ of all time t.\n",
    "\n",
    "\n",
    "# if !isfile(\"storage/preprocessed_data.csv\")\n",
    "#     for t = 1:length(infected_total)\n",
    "#         S̃[t] = [ω / α] * P - Ĩ[t] - R̃[t] - D̃[t]\n",
    "#         Ĩ[t + 1] = Ĩ[t] + β * [[S̃[t] * Ĩ[t]] / [S̃[t] + Ĩ[t]]] - γ * Ĩ[t] - ν * Ĩ[t]\n",
    "#         R̃[t + 1] = R̃[t] + γ * Ĩ[t]\n",
    "#         D[t + 1] = D[t] + α * ν * Ĩ[t]\n",
    "#     store_data(infected_df,recovered_df,deceased_df)\n",
    "# end\n",
    "\n",
    "# Store to avoid repeated computing."
   ]
  },
  {
   "cell_type": "code",
   "execution_count": null,
   "id": "9a72daba",
   "metadata": {},
   "outputs": [],
   "source": []
  },
  {
   "cell_type": "code",
   "execution_count": null,
   "id": "e2bd38b6",
   "metadata": {},
   "outputs": [],
   "source": []
  },
  {
   "cell_type": "code",
   "execution_count": null,
   "id": "c82bcffb",
   "metadata": {},
   "outputs": [],
   "source": []
  },
  {
   "cell_type": "code",
   "execution_count": null,
   "id": "26346cba",
   "metadata": {},
   "outputs": [],
   "source": []
  },
  {
   "cell_type": "code",
   "execution_count": null,
   "id": "b48e3a04",
   "metadata": {},
   "outputs": [],
   "source": []
  },
  {
   "cell_type": "code",
   "execution_count": null,
   "id": "6e9a7244",
   "metadata": {},
   "outputs": [],
   "source": []
  },
  {
   "cell_type": "code",
   "execution_count": null,
   "id": "e1a095e9",
   "metadata": {},
   "outputs": [],
   "source": []
  },
  {
   "cell_type": "code",
   "execution_count": null,
   "id": "4e6cedad",
   "metadata": {},
   "outputs": [],
   "source": []
  },
  {
   "cell_type": "code",
   "execution_count": null,
   "id": "f44e2fbd",
   "metadata": {},
   "outputs": [],
   "source": []
  },
  {
   "cell_type": "code",
   "execution_count": null,
   "id": "146d987f",
   "metadata": {},
   "outputs": [],
   "source": []
  }
 ],
 "metadata": {
  "kernelspec": {
   "display_name": "Julia 1.6.2",
   "language": "julia",
   "name": "julia-1.6"
  },
  "language_info": {
   "file_extension": ".jl",
   "mimetype": "application/julia",
   "name": "julia",
   "version": "1.6.2"
  }
 },
 "nbformat": 4,
 "nbformat_minor": 5
}
