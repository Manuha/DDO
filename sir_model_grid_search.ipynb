{
 "cells": [
  {
   "cell_type": "code",
   "execution_count": 60,
   "id": "20fdb6ee",
   "metadata": {},
   "outputs": [],
   "source": [
    "# import Pkg;\n",
    "# Pkg.add(\"PyPlot\")\n",
    "# Pkg.add(\"CSV\"); \n",
    "# Pkg.add(\"DataFrames\");"
   ]
  },
  {
   "cell_type": "code",
   "execution_count": 61,
   "id": "bd19da1b",
   "metadata": {},
   "outputs": [],
   "source": [
    "using CSV\n",
    "using DataFrames\n",
    "using LinearAlgebra\n",
    "using Plots"
   ]
  },
  {
   "cell_type": "code",
   "execution_count": 62,
   "id": "46d5b9d8",
   "metadata": {},
   "outputs": [
    {
     "data": {
      "text/plain": [
       "get_actual_values_from_cumulatives (generic function with 1 method)"
      ]
     },
     "execution_count": 62,
     "metadata": {},
     "output_type": "execute_result"
    }
   ],
   "source": [
    "function get_actual_values_from_cumulatives(cumulative_vector)\n",
    "    shifted_values = zeros(Float64, size(cumulative_vector)[1]+1)\n",
    "    for (index, value) in enumerate(cumulative_vector)\n",
    "       shifted_values[index+1] = value  \n",
    "    end\n",
    "\n",
    "    final_values = zeros(Float64, size(cumulative_vector)[1])\n",
    "    for (index, value) in enumerate(cumulative_vector)\n",
    "       final_values[index] = -shifted_values[index]+cumulative_vector[index]  \n",
    "    end\n",
    "    return final_values\n",
    "end"
   ]
  },
  {
   "cell_type": "markdown",
   "id": "4549d7b6",
   "metadata": {},
   "source": [
    "Read data. Data downloaded from https://github.com/pcm-dpc/COVID-19/blob/master/dati-andamento-covid19-italia.md"
   ]
  },
  {
   "cell_type": "code",
   "execution_count": 63,
   "id": "aefac471",
   "metadata": {},
   "outputs": [],
   "source": [
    "# infected_cases_data_path = \"data/countries/time_series_covid19_confirmed_global.csv\"\n",
    "# recovered_cases_data_path = \"data/countries/time_series_covid19_recovered_global.csv\"\n",
    "# deceased_cases_data_path = \"data/countries/time_series_covid19_deaths_global.csv\"\n",
    "\n",
    "# infected_total = CSV.read(infected_cases_data_path, DataFrame)\n",
    "# infected_US = infected_total[infected_total[!, :\"Country/Region\"] .== \"US\", :]\n",
    "# infected = select(infected_US, Not([:\"Province/State\", :\"Lat\", :\"Long\", :\"Country/Region\"])) #remove columns that are not required\n",
    "\n",
    "# recovered_total = CSV.read(recovered_cases_data_path, DataFrame)\n",
    "\n",
    "# recovered_US = recovered_total[recovered_total[!, :\"Country/Region\"] .== \"US\", :]\n",
    "# recovered = select(recovered_US, Not([:\"Province/State\", :\"Lat\", :\"Long\", :\"Country/Region\"])) #remove columns that are not required\n",
    "\n",
    "\n",
    "# deceased_total = CSV.read(deceased_cases_data_path, DataFrame)\n",
    "# deceased_US = deceased_total[deceased_total[!, :\"Country/Region\"] .== \"US\", :]\n",
    "# deceased = select(deceased_US, Not([:\"Province/State\", :\"Lat\", :\"Long\", :\"Country/Region\"]))#remove columns that are not required\n",
    "\n",
    "\n",
    "# # #convert to matrices\n",
    "\n",
    "# infected = Matrix(infected)'[1:327]\n",
    "# recovered = Matrix(recovered)'[1:327] #considering only until Dec 13 2020.\n",
    "# deceased = Matrix(deceased)'[1:327]\n",
    "# P = 332902734\n",
    "\n",
    "# ω_file=\"data/usa_ω.csv\"\n",
    "# α_file=\"data/usa_α.csv\"\n",
    "# error_file=\"data/usa_error.csv\""
   ]
  },
  {
   "cell_type": "code",
   "execution_count": 64,
   "id": "ce078382",
   "metadata": {},
   "outputs": [
    {
     "name": "stdout",
     "output_type": "stream",
     "text": [
      "Done"
     ]
    }
   ],
   "source": [
    "data_path = \"data/countries/italy.csv\"\n",
    "\n",
    "data = CSV.read(data_path, DataFrame)\n",
    "# totale_positivi,dimessi_guariti,deceduti \n",
    "# (Total amount of current positive cases (Hospitalised patients + Home confinement))\n",
    "# recovered\n",
    "# deceased\n",
    "\n",
    "infected = data[!, :\"totale_positivi\"][1:36]\n",
    "recovered = data[!, :\"dimessi_guariti\"][1:36]\n",
    "deceased = data[!, :\"deceduti\"][1:36]\n",
    "P = 59583924\n",
    "\n",
    "ω_file=\"data/italy_ω.csv\"\n",
    "α_file=\"data/italy_α.csv\"\n",
    "error_file=\"data/italy_error.csv\"\n",
    "print(\"Done\")"
   ]
  },
  {
   "cell_type": "markdown",
   "id": "cc45fdc0",
   "metadata": {},
   "source": [
    "Algorithm:\n",
    "\n",
    "Equations:\n",
    "    I(t) = αĨ(t)\n",
    "\n",
    "    R(t) = αR̃(t)\n",
    "\n",
    "    S(t) = αS̃(t)\n",
    "\n",
    "where I(t), R(t) and S(t) are the actual number of infected, recovered and susceptible population at time t and α≥1;\n",
    "   \n",
    "    S(t₀) = ωP\n",
    "\n",
    "where ωϵ[0,1] and P is the total population.\n",
    "\n",
    "S̃(t + 1) = S̃(t) - β * (S̃(t) * Ĩ(t)) ÷ (S̃(t) + Ĩ(t))\n",
    "Ĩ(t + 1) = Ĩ(t) + β * (S̃(t) * Ĩ(t)) ÷ (S̃(t) + Ĩ(t)) - γ * Ĩ(t) - ν * Ĩ(t)\n",
    "R̃(t + 1) = R̃(t) + γ * Ĩ(t)\n",
    "D(t + 1) = D(t) + α * ν * Ĩ(t)\n",
    "\n",
    "where\n",
    "    I(t) = αĨ(t)\n",
    "\n",
    "    R(t) = αR̃(t)\n",
    "\n",
    "    S(t) = αS̃(t)\n",
    "\n",
    "where I(t), R(t) and S(t) are the actual number of infected, recovered and susceptible population at time t and α≥1;\n",
    "   \n",
    "    S(t₀) = ωP\n",
    "\n",
    "where ωϵ[0,1] and P is the total population.\n",
    "\n",
    "    S̃(t) = (ω ÷ α) * P - Ĩ(t) - R̃(t) - D̃(t)\n",
    "\n",
    "    Δ(t) = [Ĩ(t + 1)-Ĩ(t); R̃(t + 1)-R̃(t); D̃(t + 1)-D̃(t)]\n",
    "    Δ(t) = Φ_ωα(t) = [S̃(t)-β*(S̃(t)*Ĩ(t))÷(S̃(t)+Ĩ(t)) -Ĩ(t) -Ĩ(t)÷α; 0 Ĩ(t) 0; 0 0 Ĩ(t)]\n",
    "    \n",
    "    Δ̄ = [ρ^(Θ -t₀)Δ(t₀); ρ^(Θ -t₀-1)Δ(t₀+1); ρ^(Θ -t₀-2)Δ(t₀+2)...Δ(Θ)]\n",
    "    Φ̄_ωα = [ρ^(Θ -t₀)Φ_ωα(t₀); ρ^(Θ -t₀-1)Φ_ωα(t₀+1); ρ^(Θ -t₀-2)Φ_ωα(t₀+2)...Φ_ωα(Θ)]\n",
    "\n",
    "where ρϵ(0,1)\n"
   ]
  },
  {
   "cell_type": "markdown",
   "id": "1868c881",
   "metadata": {},
   "source": [
    "Steps:\n",
    "1. Input: data Ĩ(t), R̃(t), and D(t), maximum value ᾱ of α, weighting parameter ρ, and total population P\n",
    "\n",
    "outputs -> ω⋆, α⋆, β⋆, γ⋆, ν̄⋆\n"
   ]
  },
  {
   "cell_type": "code",
   "execution_count": 65,
   "id": "225f9256",
   "metadata": {},
   "outputs": [
    {
     "data": {
      "text/plain": [
       "200"
      ]
     },
     "execution_count": 65,
     "metadata": {},
     "output_type": "execute_result"
    }
   ],
   "source": [
    "#we have Ĩ(t) and R̃(t) and D(t) in infected, recovered and deceased dataframes.\n",
    "\t #https://www.census.gov/popclock/\n",
    "ᾱ = 101       # ᾱ*Infected + ᾱ*Recovered + ᾱ*Deceased < ω*Population\n",
    "ρ = 0.9\n",
    "ω = 0.005 \n",
    "α_0 = 1\n",
    "α_increment = 0.5\n",
    "ω_increment = 0.005\n",
    "\n",
    "num_α = Int64((ᾱ-α_0)/α_increment)+1\n",
    "num_ω = Int64((1/ω_increment))"
   ]
  },
  {
   "cell_type": "code",
   "execution_count": 66,
   "id": "8888ecaf",
   "metadata": {},
   "outputs": [
    {
     "data": {
      "text/plain": [
       "get_susceptible (generic function with 1 method)"
      ]
     },
     "execution_count": 66,
     "metadata": {},
     "output_type": "execute_result"
    }
   ],
   "source": [
    "function get_susceptible(ω, α, P, Ĩ, R̃, D)\n",
    "    population = zeros(Float64, size(Ĩ)[1])\n",
    "    fill!(population, ω*P/α)\n",
    "    return population-infected-recovered-deceased\n",
    "end"
   ]
  },
  {
   "cell_type": "code",
   "execution_count": 67,
   "id": "290db3ff",
   "metadata": {},
   "outputs": [
    {
     "data": {
      "text/plain": [
       "invalid (generic function with 1 method)"
      ]
     },
     "execution_count": 67,
     "metadata": {},
     "output_type": "execute_result"
    }
   ],
   "source": [
    "function invalid(vector_values)\n",
    "    for (index, value) in enumerate(vector_values)\n",
    "        if value < 0\n",
    "            return true\n",
    "        end\n",
    "    end\n",
    "    return false\n",
    "end"
   ]
  },
  {
   "cell_type": "code",
   "execution_count": 68,
   "id": "2f626639",
   "metadata": {},
   "outputs": [
    {
     "data": {
      "text/plain": [
       "computeΔ̄ (generic function with 1 method)"
      ]
     },
     "execution_count": 68,
     "metadata": {},
     "output_type": "execute_result"
    }
   ],
   "source": [
    "function computeΔ̄(Ĩ, R̃, D, ρ)\n",
    "    Θ = size(Ĩ)[1]\n",
    "    \n",
    "    ρmatrix = zeros(Float64, Θ)\n",
    "    for i in 1:Θ\n",
    "        power = Θ-i\n",
    "        ρmatrix[i] = ρ^power\n",
    "    end\n",
    "    \n",
    "    Δ̄ = zeros(Float64, 3Θ)\n",
    "    Δ̄[1] = ρmatrix[1]*(Ĩ[1])\n",
    "    Δ̄[2] = ρmatrix[1]*(R̃[1])\n",
    "    Δ̄[3] = ρmatrix[1]*(D[1])\n",
    "    for i in 1:Θ-1\n",
    "        Δ̄[3*i+1] = ρmatrix[i]*(Ĩ[i+1]-Ĩ[i])\n",
    "        Δ̄[3*i+2] = ρmatrix[i]*(R̃[i+1]-R̃[i])\n",
    "        Δ̄[3*i+3] = ρmatrix[i]*(D[i+1]-D[i])\n",
    "    end\n",
    "    \n",
    "\n",
    "    return Δ̄\n",
    "end"
   ]
  },
  {
   "cell_type": "code",
   "execution_count": 69,
   "id": "e7ed8d4f",
   "metadata": {},
   "outputs": [
    {
     "data": {
      "text/plain": [
       "computeΦ (generic function with 1 method)"
      ]
     },
     "execution_count": 69,
     "metadata": {},
     "output_type": "execute_result"
    }
   ],
   "source": [
    "function computeΦ(ω, α, S̃, Ĩ)\n",
    "    Θ = size(Ĩ)[1]\n",
    "    \n",
    "    ρmatrix = zeros(Float64, Θ)\n",
    "    for i in 1:Θ\n",
    "        power = Θ-i\n",
    "        ρmatrix[i] = ρ^power\n",
    "    end\n",
    "    \n",
    "    Φ = zeros(Float64, 3*Θ, 3)\n",
    "    i=1\n",
    "    j = 1\n",
    "    while i<=Θ\n",
    "        Φ[j] = ρmatrix[i]*(S̃[i]*Ĩ[i])/ (S̃[i]+Ĩ[i])\n",
    "        Φ[3*Θ+j] = -1*ρmatrix[i]*Ĩ[i]\n",
    "        Φ[6*Θ+j] = -1*ρmatrix[i]*Ĩ[i]/α\n",
    "        Φ[j+1] = 0\n",
    "        Φ[3*Θ+j+1] = ρmatrix[i]*Ĩ[i]\n",
    "        Φ[6*Θ+j+1] = 0\n",
    "        Φ[j+2] = 0\n",
    "        Φ[3*Θ+j+2] = 0\n",
    "        Φ[6*Θ+j+2] = ρmatrix[i]*Ĩ[i]\n",
    "        i+=1\n",
    "        j+=3\n",
    "    end\n",
    "    return Φ\n",
    "    \n",
    "end\n",
    "\n",
    "# S̃ = get_susceptible(0.5, 2, P, infected, recovered, deceased)\n",
    "# computeΦ(0.5, 2, S̃, infected)\n"
   ]
  },
  {
   "cell_type": "code",
   "execution_count": 70,
   "id": "a008daa6",
   "metadata": {},
   "outputs": [
    {
     "data": {
      "text/plain": [
       "computeParameters (generic function with 1 method)"
      ]
     },
     "execution_count": 70,
     "metadata": {},
     "output_type": "execute_result"
    }
   ],
   "source": [
    "function computeParameters(Φ̄, Δ̄)\n",
    "    # @time pseudo_inv = pinv(Φ̄)    # Uncomment to check time taken.\n",
    "    pseudo_inv = pinv(Φ̄)\n",
    "    params = pseudo_inv * Δ̄\n",
    "    return params\n",
    "end"
   ]
  },
  {
   "cell_type": "code",
   "execution_count": 71,
   "id": "17b8748e",
   "metadata": {
    "scrolled": false
   },
   "outputs": [
    {
     "data": {
      "text/plain": [
       "error_ (generic function with 1 method)"
      ]
     },
     "execution_count": 71,
     "metadata": {},
     "output_type": "execute_result"
    }
   ],
   "source": [
    "function error_(Δ̄, Φ̄, params)\n",
    "    param_matrix = zeros(Float64, 3, 1)\n",
    "    param_matrix[1] = params[1]\n",
    "    param_matrix[2] = params[2]\n",
    "    param_matrix[3] = params[3]\n",
    "    \n",
    "    diff = Δ̄-(Φ̄*param_matrix)\n",
    "    return norm(diff)^2\n",
    "end\n",
    "\n",
    "# M = [1.5 1.3; 1.2 1.9]\n",
    "# N = [2,4]\n",
    "# params = computeParameters(M, N)\n",
    "# error_(N, M, params)\n",
    "# # print(params)\n"
   ]
  },
  {
   "cell_type": "code",
   "execution_count": 72,
   "id": "65579b58",
   "metadata": {},
   "outputs": [
    {
     "data": {
      "text/plain": [
       "sir_model (generic function with 1 method)"
      ]
     },
     "execution_count": 72,
     "metadata": {},
     "output_type": "execute_result"
    }
   ],
   "source": [
    "function sir_model(Ĩ, R̃, D, P, ᾱ, ρ,ω,α_0,α_increment,ω_increment)\n",
    "    e = Inf\n",
    "    Δ̄ = computeΔ̄(Ĩ, R̃, D, ρ)\n",
    "    ω_best = Inf\n",
    "    α_best = Inf\n",
    "    β_best = Inf\n",
    "    γ_best = Inf\n",
    "    ν̃_best = Inf\n",
    "    \n",
    "    num_α = Int64((ᾱ-α_0)/α_increment)+1\n",
    "    num_ω = Int64((1/ω_increment))\n",
    "    num_solve_points = (num_α*num_ω)\n",
    "    loss_vals = zeros(Float64, num_ω, num_α)\n",
    "    \n",
    "    ω_store = zeros(Float64, num_ω, num_α)\n",
    "    α_store = zeros(Float64, num_ω, num_α)\n",
    "    β_store = zeros(Float64, num_ω, num_α)\n",
    "    γ_store = zeros(Float64, num_ω, num_α)\n",
    "    ν̃_store = zeros(Float64, num_ω, num_α)\n",
    "    \n",
    "    i = j = 1\n",
    "    while ω ≤ 1\n",
    "        α = α_0\n",
    "        j=1\n",
    "        while α ≤ ᾱ\n",
    "            S̃ = get_susceptible(ω, α, P, Ĩ, R̃, D)\n",
    "            if invalid(S̃)\n",
    "                ω_store[i,j] = ω\n",
    "                α_store[i,j] = α\n",
    "                β_store[i,j] = 0\n",
    "                γ_store[i,j] = 0\n",
    "                ν̃_store[i,j] = 0\n",
    "                loss_vals[i,j] = 0\n",
    "                α+=α_increment\n",
    "                j+=1\n",
    "                continue\n",
    "            end\n",
    "            \n",
    "            Φ̄ = computeΦ(ω, α, S̃, Ĩ)\n",
    "            params = computeParameters(Φ̄, Δ̄)\n",
    "            β = params[1]\n",
    "            γ = params[2]\n",
    "            ν̃ = params[3]\n",
    "            if(β<0 || γ<0 || ν̃<0)\n",
    "                ω_store[i,j] = ω\n",
    "                α_store[i,j] = α\n",
    "                β_store[i,j] = 0\n",
    "                γ_store[i,j] = 0\n",
    "                ν̃_store[i,j] = 0\n",
    "                loss_vals[i,j] = 0\n",
    "                α+=α_increment\n",
    "                j+=1\n",
    "                continue\n",
    "            end\n",
    "\n",
    "            error_value = error_(Δ̄, Φ̄, params)\n",
    "            if error_value < e\n",
    "                e = error_value\n",
    "                ω_best = ω\n",
    "                α_best = α\n",
    "                β_best = β\n",
    "                γ_best = γ\n",
    "                ν̃_best = ν̃\n",
    "            end\n",
    "\n",
    "            ω_store[i,j] = ω\n",
    "            α_store[i,j] = α\n",
    "            β_store[i,j] = β\n",
    "            γ_store[i,j] = γ\n",
    "            ν̃_store[i,j] = ν̃\n",
    "            loss_vals[i,j] = error_value\n",
    "            \n",
    "            α+=α_increment\n",
    "            j+=1\n",
    "        end\n",
    "        ω+=ω_increment\n",
    "        i+=1\n",
    "    end\n",
    "    return ω_best,α_best,β_best,γ_best,ν̃_best, e, ω_store, α_store, β_store, γ_store, ν̃_store, loss_vals\n",
    "end"
   ]
  },
  {
   "cell_type": "code",
   "execution_count": 73,
   "id": "d24d703a",
   "metadata": {},
   "outputs": [
    {
     "name": "stdout",
     "output_type": "stream",
     "text": [
      "Done.\n"
     ]
    }
   ],
   "source": [
    "ω_, α_, β_, γ_, ν̃_, least_loss, ω_store, α_store, β_store, γ_store, ν̃_store, loss_vals = sir_model(infected, recovered, deceased, P, ᾱ, ρ,ω,α_0,α_increment,ω_increment)\n",
    "println(\"Done.\")"
   ]
  },
  {
   "cell_type": "code",
   "execution_count": 74,
   "id": "d00a1433",
   "metadata": {},
   "outputs": [
    {
     "data": {
      "text/plain": [
       "meshgrid (generic function with 1 method)"
      ]
     },
     "execution_count": 74,
     "metadata": {},
     "output_type": "execute_result"
    }
   ],
   "source": [
    "function meshgrid(xin,yin)\n",
    "    nx=length(xin)\n",
    "    ny=length(yin)\n",
    "    xout=zeros(ny,nx)\n",
    "    yout=zeros(ny,nx)\n",
    "    for jx=1:nx\n",
    "        for ix=1:ny\n",
    "            xout[ix,jx]=xin[jx]\n",
    "            yout[ix,jx]=yin[ix]\n",
    "        end\n",
    "    end\n",
    "    return (x=xout, y=yout)\n",
    "end"
   ]
  },
  {
   "cell_type": "code",
   "execution_count": 75,
   "id": "1def61f5",
   "metadata": {},
   "outputs": [
    {
     "data": {
      "text/plain": [
       "plot_loss_curve (generic function with 1 method)"
      ]
     },
     "execution_count": 75,
     "metadata": {},
     "output_type": "execute_result"
    }
   ],
   "source": [
    "function plot_loss_curve(ω_, α_, β_, γ_, ν̃_, least_loss, ω_store, α_store, β_store, γ_store, ν̃_store, loss_vals)\n",
    "    # ω_s,α_s = meshgrid(vec(ω_store), vec(α_store))\n",
    "    surface(reshape(vec(ω_store),(num_ω,num_α)), reshape(vec(α_store),(num_ω,num_α)), reshape(vec(loss_vals),(num_ω,num_α)))\n",
    "    # plot(x, y, z, zcolor = reverse(z), m = (10, 0.8, :blues, Plots.stroke(0)), leg = false, cbar = true, w = 5)\n",
    "    # scatter!(ω_, α_, least_loss, w = 10)\n",
    "end"
   ]
  },
  {
   "cell_type": "code",
   "execution_count": 76,
   "id": "b1e6e4aa",
   "metadata": {},
   "outputs": [
    {
     "data": {
      "text/plain": [
       "plot_loss_tri (generic function with 1 method)"
      ]
     },
     "execution_count": 76,
     "metadata": {},
     "output_type": "execute_result"
    }
   ],
   "source": [
    "function plot_loss_tri(ω_, α_, β_, γ_, ν̃_, least_loss, ω_store, α_store, β_store, γ_store, ν̃_store, loss_vals)\n",
    "    # ω_s,α_s = meshgrid(vec(ω_store), vec(α_store))\n",
    "    PyPlot.plot_trisurf(vec(ω_store), vec(α_store), vec(loss_vals))\n",
    "    # plot(x, y, z, zcolor = reverse(z), m = (10, 0.8, :blues, Plots.stroke(0)), leg = false, cbar = true, w = 5)\n",
    "    # scatter!(ω_, α_, least_loss, w = 10)\n",
    "end"
   ]
  },
  {
   "cell_type": "code",
   "execution_count": 77,
   "id": "70da1105",
   "metadata": {},
   "outputs": [
    {
     "name": "stdout",
     "output_type": "stream",
     "text": [
      "Vector{Float64}(40200,)(40200,)\n"
     ]
    }
   ],
   "source": [
    "println(typeof(vec(ω_store)),size(vec(α_store)),size(vec(loss_vals)))"
   ]
  },
  {
   "cell_type": "code",
   "execution_count": 78,
   "id": "dd58261b",
   "metadata": {},
   "outputs": [],
   "source": [
    "# pyplot()\n",
    "# plot_loss_curve(ω_, α_, β_, γ_, ν̃_, least_loss, ω_store, α_store, β_store, γ_store, ν̃_store, loss_vals)"
   ]
  },
  {
   "cell_type": "code",
   "execution_count": 79,
   "id": "21dcb855",
   "metadata": {},
   "outputs": [
    {
     "name": "stdout",
     "output_type": "stream",
     "text": [
      "0.19000000000000009 87.00.164091752893794130.0142470169646651060.0106486610131756222.6494983204609775e6\n"
     ]
    }
   ],
   "source": [
    "println(ω_,\" \", α_, β_, γ_, ν̃_,least_loss)"
   ]
  },
  {
   "cell_type": "code",
   "execution_count": 80,
   "id": "5f8c969a",
   "metadata": {},
   "outputs": [
    {
     "name": "stdout",
     "output_type": "stream",
     "text": [
      "0.19000000000000009 87.00.164091752893794130.0142470169646651060.010648661013175622 2.6494983204609775e6\n"
     ]
    }
   ],
   "source": [
    "println(ω_,\" \", α_, β_, γ_, ν̃_,\" \",least_loss)"
   ]
  },
  {
   "cell_type": "code",
   "execution_count": 81,
   "id": "4cc6926f",
   "metadata": {},
   "outputs": [],
   "source": [
    "# plot_loss_tri(ω_, α_, β_, γ_, ν̃_, least_loss, ω_store, α_store, β_store, γ_store, ν̃_store, loss_vals)"
   ]
  },
  {
   "cell_type": "code",
   "execution_count": 82,
   "id": "e642857e",
   "metadata": {},
   "outputs": [
    {
     "data": {
      "text/plain": [
       "Plots.PyPlotBackend()"
      ]
     },
     "execution_count": 82,
     "metadata": {},
     "output_type": "execute_result"
    }
   ],
   "source": [
    "pyplot()\n",
    "Plots.PyPlotBackend()"
   ]
  },
  {
   "cell_type": "code",
   "execution_count": 83,
   "id": "ca1b0c45",
   "metadata": {},
   "outputs": [
    {
     "data": {
      "text/plain": [
       "store_data (generic function with 1 method)"
      ]
     },
     "execution_count": 83,
     "metadata": {},
     "output_type": "execute_result"
    }
   ],
   "source": [
    "function store_data(infected_df,recovered_df,deceased_df)\n",
    "    infected_cases_data_path = \"data/preprocessed/countries/time_series_covid19_confirmed_global.csv\"\n",
    "    recovered_cases_data_path = \"data/preprocessed/countries/time_series_covid19_recovered_global.csv\"\n",
    "    deceased_cases_data_path = \"data/preprocessed/countries/time_series_covid19_deaths_global.csv\"\n",
    "\n",
    "    CSV.write(infected_cases_data_path, infected_df)\n",
    "#     infected_US = infected_total[infected_total[!, :\"Country/Region\"] .== \"US\", :]\n",
    "#     infected = select(infected_US, Not([:\"Province/State\", :\"Lat\", :\"Long\", :\"Country/Region\"])) #remove columns that are not required\n",
    "\n",
    "    CSV.write(recovered_cases_data_path, recovered_df)\n",
    "#     recovered_US = recovered_total[recovered_total[!, :\"Country/Region\"] .== \"US\", :]\n",
    "#     recovered = select(recovered_US, Not([:\"Province/State\", :\"Lat\", :\"Long\", :\"Country/Region\"])) #remove columns that are not required\n",
    "\n",
    "    CSV.write(deceased_cases_data_path, deceased_df)\n",
    "#     deceased_US = deceased_total[deceased_total[!, :\"Country/Region\"] .== \"US\", :]\n",
    "#     deceased = select(deceased_US, Not([:\"Province/State\", :\"Lat\", :\"Long\", :\"Country/Region\"]))#remove columns that are not required\n",
    "\n",
    "\n",
    "end"
   ]
  },
  {
   "cell_type": "code",
   "execution_count": 84,
   "id": "3cc3230b",
   "metadata": {},
   "outputs": [],
   "source": [
    "using DelimitedFiles\n",
    "writedlm( ω_file,  ω_store, ',')\n",
    "writedlm( α_file,  α_store, ',')\n",
    "writedlm( error_file,  loss_vals, ',')"
   ]
  },
  {
   "cell_type": "code",
   "execution_count": 85,
   "id": "e4a6dd81",
   "metadata": {},
   "outputs": [],
   "source": [
    "#compute S̃, Ĩ and R̃ of all time t.\n",
    "\n",
    "\n",
    "# if !isfile(\"storage/preprocessed_data.csv\")\n",
    "#     for t = 1:length(infected_total)\n",
    "#         S̃[t] = [ω / α] * P - Ĩ[t] - R̃[t] - D̃[t]\n",
    "#         Ĩ[t + 1] = Ĩ[t] + β * [[S̃[t] * Ĩ[t]] / [S̃[t] + Ĩ[t]]] - γ * Ĩ[t] - ν * Ĩ[t]\n",
    "#         R̃[t + 1] = R̃[t] + γ * Ĩ[t]\n",
    "#         D[t + 1] = D[t] + α * ν * Ĩ[t]\n",
    "#     store_data(infected_df,recovered_df,deceased_df)\n",
    "# end\n",
    "\n",
    "# Store to avoid repeated computing."
   ]
  },
  {
   "cell_type": "code",
   "execution_count": null,
   "id": "dd647777",
   "metadata": {},
   "outputs": [],
   "source": []
  }
 ],
 "metadata": {
  "kernelspec": {
   "display_name": "Julia 1.6.0",
   "language": "julia",
   "name": "julia-1.6"
  },
  "language_info": {
   "file_extension": ".jl",
   "mimetype": "application/julia",
   "name": "julia",
   "version": "1.6.3"
  }
 },
 "nbformat": 4,
 "nbformat_minor": 5
}
