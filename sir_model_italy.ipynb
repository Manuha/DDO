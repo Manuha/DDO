{
 "cells": [
  {
   "cell_type": "code",
   "execution_count": 2,
   "id": "20fdb6ee",
   "metadata": {},
   "outputs": [
    {
     "name": "stderr",
     "output_type": "stream",
     "text": [
      "\u001b[32m\u001b[1m    Updating\u001b[22m\u001b[39m registry at `~/.julia/registries/General`\n",
      "\u001b[32m\u001b[1m   Resolving\u001b[22m\u001b[39m package versions...\n",
      "\u001b[32m\u001b[1m  No Changes\u001b[22m\u001b[39m to `~/.julia/environments/v1.6/Project.toml`\n",
      "\u001b[32m\u001b[1m  No Changes\u001b[22m\u001b[39m to `~/.julia/environments/v1.6/Manifest.toml`\n"
     ]
    }
   ],
   "source": [
    "import Pkg;\n",
    "Pkg.add(\"PyPlot\")\n",
    "# Pkg.add(\"CSV\"); \n",
    "# Pkg.add(\"DataFrames\");"
   ]
  },
  {
   "cell_type": "code",
   "execution_count": 3,
   "id": "bd19da1b",
   "metadata": {},
   "outputs": [],
   "source": [
    "using CSV\n",
    "using DataFrames\n",
    "using LinearAlgebra\n",
    "using Plots"
   ]
  },
  {
   "cell_type": "code",
   "execution_count": 4,
   "id": "46d5b9d8",
   "metadata": {},
   "outputs": [
    {
     "data": {
      "text/plain": [
       "get_actual_values_from_cumulatives (generic function with 1 method)"
      ]
     },
     "execution_count": 4,
     "metadata": {},
     "output_type": "execute_result"
    }
   ],
   "source": [
    "function get_actual_values_from_cumulatives(cumulative_vector)\n",
    "    shifted_values = zeros(Float64, size(cumulative_vector)[1]+1)\n",
    "    for (index, value) in enumerate(cumulative_vector)\n",
    "       shifted_values[index+1] = value  \n",
    "    end\n",
    "\n",
    "    final_values = zeros(Float64, size(cumulative_vector)[1])\n",
    "    for (index, value) in enumerate(cumulative_vector)\n",
    "       final_values[index] = -shifted_values[index]+cumulative_vector[index]  \n",
    "    end\n",
    "    return final_values\n",
    "end"
   ]
  },
  {
   "cell_type": "markdown",
   "id": "4549d7b6",
   "metadata": {},
   "source": [
    "Read data. Data downloaded from https://github.com/pcm-dpc/COVID-19/blob/master/dati-andamento-covid19-italia.md"
   ]
  },
  {
   "cell_type": "code",
   "execution_count": 5,
   "id": "ce078382",
   "metadata": {},
   "outputs": [
    {
     "data": {
      "text/plain": [
       "628-element Vector{Int64}:\n",
       "      7\n",
       "     10\n",
       "     12\n",
       "     17\n",
       "     21\n",
       "     29\n",
       "     34\n",
       "     52\n",
       "     79\n",
       "    107\n",
       "    148\n",
       "    197\n",
       "    233\n",
       "      ⋮\n",
       " 132120\n",
       " 132161\n",
       " 132224\n",
       " 132283\n",
       " 132334\n",
       " 132365\n",
       " 132385\n",
       " 132423\n",
       " 132491\n",
       " 132551\n",
       " 132618\n",
       " 132686"
      ]
     },
     "execution_count": 5,
     "metadata": {},
     "output_type": "execute_result"
    }
   ],
   "source": [
    "data_path = \"../DDO_2/data/dpc-covid19-ita-andamento-nazionale.csv\"\n",
    "\n",
    "data = CSV.read(data_path, DataFrame)\n",
    "# totale_positivi,dimessi_guariti,deceduti \n",
    "# (Total amount of current positive cases (Hospitalised patients + Home confinement))\n",
    "# recovered\n",
    "# deceased\n",
    "\n",
    "infected = data[!, :\"totale_positivi\"]\n",
    "recovered = data[!, :\"dimessi_guariti\"]\n",
    "deceased = data[!, :\"deceduti\"]"
   ]
  },
  {
   "cell_type": "markdown",
   "id": "cc45fdc0",
   "metadata": {},
   "source": [
    "Algorithm:\n",
    "\n",
    "Equations:\n",
    "    I(t) = αĨ(t)\n",
    "\n",
    "    R(t) = αR̃(t)\n",
    "\n",
    "    S(t) = αS̃(t)\n",
    "\n",
    "where I(t), R(t) and S(t) are the actual number of infected, recovered and susceptible population at time t and α≥1;\n",
    "   \n",
    "    S(t₀) = ωP\n",
    "\n",
    "where ωϵ[0,1] and P is the total population.\n",
    "\n",
    "S̃(t + 1) = S̃(t) - β * (S̃(t) * Ĩ(t)) ÷ (S̃(t) + Ĩ(t))\n",
    "Ĩ(t + 1) = Ĩ(t) + β * (S̃(t) * Ĩ(t)) ÷ (S̃(t) + Ĩ(t)) - γ * Ĩ(t) - ν * Ĩ(t)\n",
    "R̃(t + 1) = R̃(t) + γ * Ĩ(t)\n",
    "D(t + 1) = D(t) + α * ν * Ĩ(t)\n",
    "\n",
    "where\n",
    "    I(t) = αĨ(t)\n",
    "\n",
    "    R(t) = αR̃(t)\n",
    "\n",
    "    S(t) = αS̃(t)\n",
    "\n",
    "where I(t), R(t) and S(t) are the actual number of infected, recovered and susceptible population at time t and α≥1;\n",
    "   \n",
    "    S(t₀) = ωP\n",
    "\n",
    "where ωϵ[0,1] and P is the total population.\n",
    "\n",
    "    S̃(t) = (ω ÷ α) * P - Ĩ(t) - R̃(t) - D̃(t)\n",
    "\n",
    "    Δ(t) = [Ĩ(t + 1)-Ĩ(t); R̃(t + 1)-R̃(t); D̃(t + 1)-D̃(t)]\n",
    "    Δ(t) = Φ_ωα(t) = [S̃(t)-β*(S̃(t)*Ĩ(t))÷(S̃(t)+Ĩ(t)) -Ĩ(t) -Ĩ(t)÷α; 0 Ĩ(t) 0; 0 0 Ĩ(t)]\n",
    "    \n",
    "    Δ̄ = [ρ^(Θ -t₀)Δ(t₀); ρ^(Θ -t₀-1)Δ(t₀+1); ρ^(Θ -t₀-2)Δ(t₀+2)...Δ(Θ)]\n",
    "    Φ̄_ωα = [ρ^(Θ -t₀)Φ_ωα(t₀); ρ^(Θ -t₀-1)Φ_ωα(t₀+1); ρ^(Θ -t₀-2)Φ_ωα(t₀+2)...Φ_ωα(Θ)]\n",
    "\n",
    "where ρϵ(0,1)\n"
   ]
  },
  {
   "cell_type": "markdown",
   "id": "1868c881",
   "metadata": {},
   "source": [
    "Steps:\n",
    "1. Input: data Ĩ(t), R̃(t), and D(t), maximum value ᾱ of α, weighting parameter ρ, and total population P\n",
    "\n",
    "outputs -> ω⋆, α⋆, β⋆, γ⋆, ν̄⋆\n"
   ]
  },
  {
   "cell_type": "code",
   "execution_count": 38,
   "id": "225f9256",
   "metadata": {},
   "outputs": [
    {
     "data": {
      "text/plain": [
       "20"
      ]
     },
     "execution_count": 38,
     "metadata": {},
     "output_type": "execute_result"
    }
   ],
   "source": [
    "#we have Ĩ(t) and R̃(t) and D(t) in infected, recovered and deceased dataframes.\n",
    "P = 332902734 #https://www.census.gov/popclock/\n",
    "ᾱ = 101       # ᾱ*Infected + ᾱ*Recovered + ᾱ*Deceased < ω*Population\n",
    "ρ = 0.9\n",
    "ω = 0.05 \n",
    "α_0 = 1\n",
    "α_increment = 20\n",
    "ω_increment = 0.05\n",
    "\n",
    "num_α = Int64((ᾱ-α_0)/α_increment)+1\n",
    "num_ω = Int64((1/ω_increment))"
   ]
  },
  {
   "cell_type": "code",
   "execution_count": 7,
   "id": "8888ecaf",
   "metadata": {},
   "outputs": [
    {
     "data": {
      "text/plain": [
       "get_susceptible (generic function with 1 method)"
      ]
     },
     "execution_count": 7,
     "metadata": {},
     "output_type": "execute_result"
    }
   ],
   "source": [
    "function get_susceptible(ω, α, P, Ĩ, R̃, D)\n",
    "    population = zeros(Float64, size(Ĩ)[1])\n",
    "    fill!(population, ω*P/α)\n",
    "    return population-infected-recovered-deceased\n",
    "end"
   ]
  },
  {
   "cell_type": "code",
   "execution_count": 8,
   "id": "290db3ff",
   "metadata": {},
   "outputs": [
    {
     "data": {
      "text/plain": [
       "invalid (generic function with 1 method)"
      ]
     },
     "execution_count": 8,
     "metadata": {},
     "output_type": "execute_result"
    }
   ],
   "source": [
    "function invalid(vector_values)\n",
    "    for (index, value) in enumerate(vector_values)\n",
    "        if value < 0\n",
    "            return true\n",
    "        end\n",
    "    end\n",
    "    return false\n",
    "end"
   ]
  },
  {
   "cell_type": "code",
   "execution_count": 9,
   "id": "2f626639",
   "metadata": {},
   "outputs": [
    {
     "data": {
      "text/plain": [
       "computeΔ̄ (generic function with 1 method)"
      ]
     },
     "execution_count": 9,
     "metadata": {},
     "output_type": "execute_result"
    }
   ],
   "source": [
    "function computeΔ̄(Ĩ, R̃, D, ρ)\n",
    "    Θ = size(Ĩ)[1]\n",
    "    \n",
    "    ρmatrix = zeros(Float64, Θ)\n",
    "    for i in 1:Θ\n",
    "        power = Θ-i\n",
    "        ρmatrix[i] = ρ^power\n",
    "    end\n",
    "    \n",
    "    Δ̄ = zeros(Float64, 3Θ)\n",
    "    for i in 1:Θ-1\n",
    "        Δ̄[3(i-1)+1] = ρmatrix[i]*(Ĩ[i+1]-Ĩ[i])\n",
    "        Δ̄[3(i-1)+2] = ρmatrix[i]*(R̃[i+1]-R̃[i])\n",
    "        Δ̄[3(i-1)+3] = ρmatrix[i]*(D[i+1]-D[i])\n",
    "    end\n",
    "    \n",
    "    Δ̄[3(Θ-1)+1] = ρmatrix[Θ]*(Ĩ[Θ])\n",
    "    Δ̄[3(Θ-1)+2] = ρmatrix[Θ]*(R̃[Θ])\n",
    "    Δ̄[3(Θ-1)+3] = ρmatrix[Θ]*(D[Θ])\n",
    "\n",
    "    return Δ̄\n",
    "end"
   ]
  },
  {
   "cell_type": "code",
   "execution_count": 10,
   "id": "e7ed8d4f",
   "metadata": {},
   "outputs": [
    {
     "data": {
      "text/plain": [
       "computeΦ (generic function with 1 method)"
      ]
     },
     "execution_count": 10,
     "metadata": {},
     "output_type": "execute_result"
    }
   ],
   "source": [
    "function computeΦ(ω, α, S̃, Ĩ)\n",
    "    Θ = size(Ĩ)[1]\n",
    "    \n",
    "    ρmatrix = zeros(Float64, Θ)\n",
    "    for i in 1:Θ\n",
    "        power = Θ-i\n",
    "        ρmatrix[i] = ρ^power\n",
    "    end\n",
    "    \n",
    "    Φ = zeros(Float64, 3*Θ, 3)\n",
    "    i=1\n",
    "    while i<Θ\n",
    "        Φ[i] = ρmatrix[i]*(S̃[i]*Ĩ[i])/ (S̃[i]+Ĩ[i])\n",
    "        Φ[3*Θ+i] = -1*ρmatrix[i]*Ĩ[i]\n",
    "        Φ[6*Θ+i] = -1*ρmatrix[i]*Ĩ[i]/α\n",
    "        Φ[i+1] = 0\n",
    "        Φ[3*Θ+i+1] = ρmatrix[i]*Ĩ[i]\n",
    "        Φ[6*Θ+i+1] = 0\n",
    "        Φ[i+2] = 0\n",
    "        Φ[3*Θ+i+2] = 0\n",
    "        Φ[6*Θ+i+2] = ρmatrix[i]*Ĩ[i]\n",
    "        i+=3\n",
    "    end\n",
    "    return Φ\n",
    "    \n",
    "end\n",
    "\n",
    "# S̃ = get_susceptible(0.5, 2, P, infected, recovered, deceased)\n",
    "# computeΦ(0.5, 2, S̃, infected)\n"
   ]
  },
  {
   "cell_type": "code",
   "execution_count": 11,
   "id": "a008daa6",
   "metadata": {},
   "outputs": [
    {
     "data": {
      "text/plain": [
       "computeParameters (generic function with 1 method)"
      ]
     },
     "execution_count": 11,
     "metadata": {},
     "output_type": "execute_result"
    }
   ],
   "source": [
    "function computeParameters(Φ̄, Δ̄)\n",
    "    @time pseudo_inv = pinv(Φ̄)\n",
    "    params = pseudo_inv * Δ̄\n",
    "    return params\n",
    "end"
   ]
  },
  {
   "cell_type": "code",
   "execution_count": 12,
   "id": "17b8748e",
   "metadata": {
    "scrolled": false
   },
   "outputs": [
    {
     "data": {
      "text/plain": [
       "error_ (generic function with 1 method)"
      ]
     },
     "execution_count": 12,
     "metadata": {},
     "output_type": "execute_result"
    }
   ],
   "source": [
    "function error_(Δ̄, Φ̄, params)\n",
    "    param_matrix = zeros(Float64, 3, 1)\n",
    "    param_matrix[1] = params[1]\n",
    "    param_matrix[2] = params[2]\n",
    "    param_matrix[3] = params[3]\n",
    "    \n",
    "    diff = Δ̄-(Φ̄*param_matrix)\n",
    "    return norm(diff)^2\n",
    "end\n",
    "\n",
    "# M = [1.5 1.3; 1.2 1.9]\n",
    "# N = [2,4]\n",
    "# params = computeParameters(M, N)\n",
    "# error_(N, M, params)\n",
    "# # print(params)\n"
   ]
  },
  {
   "cell_type": "code",
   "execution_count": 39,
   "id": "65579b58",
   "metadata": {},
   "outputs": [
    {
     "data": {
      "text/plain": [
       "sir_model (generic function with 1 method)"
      ]
     },
     "execution_count": 39,
     "metadata": {},
     "output_type": "execute_result"
    }
   ],
   "source": [
    "function sir_model(Ĩ, R̃, D, P, ᾱ, ρ)\n",
    "    e = Inf\n",
    "    Δ̄ = computeΔ̄(Ĩ, R̃, D, ρ)\n",
    "    ω_ = Inf\n",
    "    α_ = Inf\n",
    "    β_ = Inf\n",
    "    γ_ = Inf\n",
    "    ν̃_ = Inf\n",
    "    \n",
    "    ω = 0.05 \n",
    "    α_0 = 1\n",
    "    α_increment = 20\n",
    "    ω_increment = 0.05\n",
    "    \n",
    "    num_α = Int64((ᾱ-α_0)/α_increment)+1\n",
    "    num_ω = Int64((1/ω_increment))\n",
    "    num_solve_points = (num_α*num_ω)\n",
    "    loss_vals = zeros(Float64, num_ω, num_α)\n",
    "    \n",
    "    ω_store = zeros(Float64, num_ω, num_α)\n",
    "    α_store = zeros(Float64, num_ω, num_α)\n",
    "    β_store = zeros(Float64, num_ω, num_α)\n",
    "    γ_store = zeros(Float64, num_ω, num_α)\n",
    "    ν̃_store = zeros(Float64, num_ω, num_α)\n",
    "    \n",
    "    i = j = 1\n",
    "    while ω ≤ 1\n",
    "        α = α_0\n",
    "        j=1\n",
    "        while α ≤ ᾱ\n",
    "            S̃ = get_susceptible(ω, α, P, Ĩ, R̃, D)\n",
    "            if invalid(S̃)\n",
    "                ω_store[i,j] = ω\n",
    "                α_store[i,j] = α\n",
    "                β_store[i,j] = 0\n",
    "                γ_store[i,j] = 0\n",
    "                ν̃_store[i,j] = 0\n",
    "                loss_vals[i,j] = 0\n",
    "                α+=α_increment\n",
    "                j+=1\n",
    "                continue\n",
    "            end\n",
    "            \n",
    "            Φ̄ = computeΦ(ω, α, S̃, Ĩ)\n",
    "            params = computeParameters(Φ̄, Δ̄)\n",
    "            β = params[1]\n",
    "            γ = params[2]\n",
    "            ν̃ = params[3]\n",
    "            if(β<0 || γ<0 || ν̃<0)\n",
    "                ω_store[i,j] = ω\n",
    "                α_store[i,j] = α\n",
    "                β_store[i,j] = 0\n",
    "                γ_store[i,j] = 0\n",
    "                ν̃_store[i,j] = 0\n",
    "                loss_vals[i,j] = 0\n",
    "                α+=α_increment\n",
    "                j+=1\n",
    "                continue\n",
    "            end\n",
    "\n",
    "            error_value = error_(Δ̄, Φ̄, params)\n",
    "            if error_value < e\n",
    "                e = error_value\n",
    "                ω_ = ω\n",
    "                α_ = α\n",
    "                β_ = β\n",
    "                γ_ = γ\n",
    "                ν̃_ = ν̃\n",
    "            end\n",
    "\n",
    "            ω_store[i,j] = ω\n",
    "            α_store[i,j] = α\n",
    "            β_store[i,j] = β\n",
    "            γ_store[i,j] = γ\n",
    "            ν̃_store[i,j] = ν̃\n",
    "            loss_vals[i,j] = error_value\n",
    "            \n",
    "            α+=α_increment\n",
    "            j+=1\n",
    "        end\n",
    "        ω+=ω_increment\n",
    "        i+=1\n",
    "    end\n",
    "    return ω_, α_, β_, γ_, ν̃_, e, ω_store, α_store, β_store, γ_store, ν̃_store, loss_vals\n",
    "end"
   ]
  },
  {
   "cell_type": "code",
   "execution_count": 40,
   "id": "d24d703a",
   "metadata": {},
   "outputs": [
    {
     "name": "stdout",
     "output_type": "stream",
     "text": [
      "  0.000464 seconds (21 allocations: 180.109 KiB)\n",
      "  0.000426 seconds (21 allocations: 180.109 KiB)\n",
      "  0.000428 seconds (21 allocations: 180.109 KiB)\n",
      "  0.000397 seconds (21 allocations: 180.109 KiB)\n",
      "  0.000414 seconds (21 allocations: 180.109 KiB)\n",
      "  0.000410 seconds (21 allocations: 180.109 KiB)\n",
      "  0.000432 seconds (21 allocations: 180.109 KiB)\n",
      "  0.000409 seconds (21 allocations: 180.109 KiB)\n",
      "  0.000406 seconds (21 allocations: 180.109 KiB)\n",
      "  0.000409 seconds (21 allocations: 180.109 KiB)\n",
      "  0.000414 seconds (21 allocations: 180.109 KiB)\n",
      "  0.000423 seconds (21 allocations: 180.109 KiB)\n",
      "  0.000881 seconds (21 allocations: 180.109 KiB)\n",
      "  0.000407 seconds (21 allocations: 180.109 KiB)\n",
      "  0.000776 seconds (21 allocations: 180.109 KiB)\n",
      "  0.000416 seconds (21 allocations: 180.109 KiB)\n",
      "  0.000816 seconds (21 allocations: 180.109 KiB)\n",
      "  0.000413 seconds (21 allocations: 180.109 KiB)\n",
      "  0.000436 seconds (21 allocations: 180.109 KiB)\n",
      "  0.000413 seconds (21 allocations: 180.109 KiB)\n",
      "  0.000416 seconds (21 allocations: 180.109 KiB)\n",
      "  0.000407 seconds (21 allocations: 180.109 KiB)\n",
      "  0.000416 seconds (21 allocations: 180.109 KiB)\n",
      "  0.000418 seconds (21 allocations: 180.109 KiB)\n",
      "  0.000410 seconds (21 allocations: 180.109 KiB)\n",
      "  0.000421 seconds (21 allocations: 180.109 KiB)\n",
      "  0.000404 seconds (21 allocations: 180.109 KiB)\n",
      "  0.000399 seconds (21 allocations: 180.109 KiB)\n",
      "  0.000415 seconds (21 allocations: 180.109 KiB)\n",
      "  0.000414 seconds (21 allocations: 180.109 KiB)\n",
      "  0.000409 seconds (21 allocations: 180.109 KiB)\n",
      "  0.000414 seconds (21 allocations: 180.109 KiB)\n",
      "  0.000406 seconds (21 allocations: 180.109 KiB)\n",
      "  0.000408 seconds (21 allocations: 180.109 KiB)\n",
      "  0.000409 seconds (21 allocations: 180.109 KiB)\n",
      "  0.000405 seconds (21 allocations: 180.109 KiB)\n",
      "  0.000408 seconds (21 allocations: 180.109 KiB)\n",
      "  0.000406 seconds (21 allocations: 180.109 KiB)\n",
      "  0.000419 seconds (21 allocations: 180.109 KiB)\n",
      "  0.000412 seconds (21 allocations: 180.109 KiB)\n",
      "  0.000413 seconds (21 allocations: 180.109 KiB)\n",
      "  0.000407 seconds (21 allocations: 180.109 KiB)\n"
     ]
    },
    {
     "data": {
      "text/plain": [
       "(0.05, 1, 2.0943379323607997e-21, 9.367652858899643e-22, 2.037669255493483e-23, 2.119559270666328e13, [0.05 0.05 … 0.05 0.05; 0.1 0.1 … 0.1 0.1; … ; 0.9500000000000003 0.9500000000000003 … 0.9500000000000003 0.9500000000000003; 0.0 0.0 … 0.0 0.0], [1.0 21.0 … 81.0 101.0; 1.0 21.0 … 81.0 101.0; … ; 1.0 21.0 … 81.0 101.0; 0.0 0.0 … 0.0 0.0], [2.0943379323607997e-21 0.0 … 0.0 0.0; 2.0841158638166904e-21 0.0 … 0.0 0.0; … ; 2.0775170868386344e-21 2.077400210890207e-21 … 0.0 0.0; 0.0 0.0 … 0.0 0.0], [9.367652858899643e-22 0.0 … 0.0 0.0; 9.365964282810024e-22 0.0 … 0.0 0.0; … ; 9.364889064640143e-22 9.368104601383983e-22 … 0.0 0.0; 0.0 0.0 … 0.0 0.0], [2.037669255493483e-23 0.0 … 0.0 0.0; 2.020783494597333e-23 0.0 … 0.0 0.0; … ; 2.0100313128984734e-23 2.0105384658361594e-23 … 0.0 0.0; 0.0 0.0 … 0.0 0.0], [2.119559270666328e13 0.0 … 0.0 0.0; 2.119559270666328e13 0.0 … 0.0 0.0; … ; 2.119559270666328e13 2.119559270666328e13 … 0.0 0.0; 0.0 0.0 … 0.0 0.0])"
      ]
     },
     "execution_count": 40,
     "metadata": {},
     "output_type": "execute_result"
    }
   ],
   "source": [
    "ω_, α_, β_, γ_, ν̃_, least_loss, ω_store, α_store, β_store, γ_store, ν̃_store, loss_vals = sir_model(infected, recovered, deceased, P, ᾱ, ρ)"
   ]
  },
  {
   "cell_type": "code",
   "execution_count": 41,
   "id": "d00a1433",
   "metadata": {},
   "outputs": [
    {
     "data": {
      "text/plain": [
       "meshgrid (generic function with 1 method)"
      ]
     },
     "execution_count": 41,
     "metadata": {},
     "output_type": "execute_result"
    }
   ],
   "source": [
    "function meshgrid(xin,yin)\n",
    "    nx=length(xin)\n",
    "    ny=length(yin)\n",
    "    xout=zeros(ny,nx)\n",
    "    yout=zeros(ny,nx)\n",
    "    for jx=1:nx\n",
    "        for ix=1:ny\n",
    "            xout[ix,jx]=xin[jx]\n",
    "            yout[ix,jx]=yin[ix]\n",
    "        end\n",
    "    end\n",
    "    return (x=xout, y=yout)\n",
    "end"
   ]
  },
  {
   "cell_type": "code",
   "execution_count": 42,
   "id": "1def61f5",
   "metadata": {},
   "outputs": [
    {
     "data": {
      "text/plain": [
       "plot_loss_curve (generic function with 1 method)"
      ]
     },
     "execution_count": 42,
     "metadata": {},
     "output_type": "execute_result"
    }
   ],
   "source": [
    "function plot_loss_curve(ω_, α_, β_, γ_, ν̃_, least_loss, ω_store, α_store, β_store, γ_store, ν̃_store, loss_vals)\n",
    "    # ω_s,α_s = meshgrid(vec(ω_store), vec(α_store))\n",
    "    surface(reshape(vec(ω_store),(num_ω,num_α)), reshape(vec(α_store),(num_ω,num_α)), reshape(vec(loss_vals),(num_ω,num_α)))\n",
    "    # plot(x, y, z, zcolor = reverse(z), m = (10, 0.8, :blues, Plots.stroke(0)), leg = false, cbar = true, w = 5)\n",
    "    # scatter!(ω_, α_, least_loss, w = 10)\n",
    "end"
   ]
  },
  {
   "cell_type": "code",
   "execution_count": 43,
   "id": "b1e6e4aa",
   "metadata": {},
   "outputs": [
    {
     "data": {
      "text/plain": [
       "plot_loss_tri (generic function with 1 method)"
      ]
     },
     "execution_count": 43,
     "metadata": {},
     "output_type": "execute_result"
    }
   ],
   "source": [
    "function plot_loss_tri(ω_, α_, β_, γ_, ν̃_, least_loss, ω_store, α_store, β_store, γ_store, ν̃_store, loss_vals)\n",
    "    # ω_s,α_s = meshgrid(vec(ω_store), vec(α_store))\n",
    "    PyPlot.plot_trisurf(vec(ω_store), vec(α_store), vec(loss_vals))\n",
    "    # plot(x, y, z, zcolor = reverse(z), m = (10, 0.8, :blues, Plots.stroke(0)), leg = false, cbar = true, w = 5)\n",
    "    # scatter!(ω_, α_, least_loss, w = 10)\n",
    "end"
   ]
  },
  {
   "cell_type": "code",
   "execution_count": 44,
   "id": "70da1105",
   "metadata": {},
   "outputs": [
    {
     "name": "stdout",
     "output_type": "stream",
     "text": [
      "Vector{Float64}(120,)(120,)\n"
     ]
    }
   ],
   "source": [
    "println(typeof(vec(ω_store)),size(vec(α_store)),size(vec(loss_vals)))"
   ]
  },
  {
   "cell_type": "code",
   "execution_count": 46,
   "id": "dd58261b",
   "metadata": {},
   "outputs": [
    {
     "ename": "PyCall.PyError",
     "evalue": "PyError ($(Expr(:escape, :(ccall(#= /Users/manuvancha/.julia/packages/PyCall/3fwVL/src/pyfncall.jl:43 =# @pysym(:PyObject_Call), PyPtr, (PyPtr, PyPtr, PyPtr), o, pyargsptr, kw))))) <class 'AttributeError'>\nAttributeError(\"'Text' object has no property 'math_fontfamily'\")\n  File \"/Users/manuvancha/.julia/conda/3/lib/python3.9/site-packages/matplotlib/colorbar.py\", line 761, in set_label\n    self._set_label()\n  File \"/Users/manuvancha/.julia/conda/3/lib/python3.9/site-packages/matplotlib/colorbar.py\", line 731, in _set_label\n    self.ax.set_ylabel(self._label, **self._labelkw)\n  File \"/Users/manuvancha/.julia/conda/3/lib/python3.9/site-packages/matplotlib/axes/_axes.py\", line 300, in set_ylabel\n    return self.yaxis.set_label_text(ylabel, fontdict, **kwargs)\n  File \"/Users/manuvancha/.julia/conda/3/lib/python3.9/site-packages/matplotlib/axis.py\", line 1566, in set_label_text\n    self.label.update(kwargs)\n  File \"/Users/manuvancha/.julia/conda/3/lib/python3.9/site-packages/matplotlib/text.py\", line 179, in update\n    super().update(kwargs)\n  File \"/Users/manuvancha/.julia/conda/3/lib/python3.9/site-packages/matplotlib/artist.py\", line 996, in update\n    raise AttributeError(f\"{type(self).__name__!r} object \"\n",
     "output_type": "error",
     "traceback": [
      "PyError ($(Expr(:escape, :(ccall(#= /Users/manuvancha/.julia/packages/PyCall/3fwVL/src/pyfncall.jl:43 =# @pysym(:PyObject_Call), PyPtr, (PyPtr, PyPtr, PyPtr), o, pyargsptr, kw))))) <class 'AttributeError'>\nAttributeError(\"'Text' object has no property 'math_fontfamily'\")\n  File \"/Users/manuvancha/.julia/conda/3/lib/python3.9/site-packages/matplotlib/colorbar.py\", line 761, in set_label\n    self._set_label()\n  File \"/Users/manuvancha/.julia/conda/3/lib/python3.9/site-packages/matplotlib/colorbar.py\", line 731, in _set_label\n    self.ax.set_ylabel(self._label, **self._labelkw)\n  File \"/Users/manuvancha/.julia/conda/3/lib/python3.9/site-packages/matplotlib/axes/_axes.py\", line 300, in set_ylabel\n    return self.yaxis.set_label_text(ylabel, fontdict, **kwargs)\n  File \"/Users/manuvancha/.julia/conda/3/lib/python3.9/site-packages/matplotlib/axis.py\", line 1566, in set_label_text\n    self.label.update(kwargs)\n  File \"/Users/manuvancha/.julia/conda/3/lib/python3.9/site-packages/matplotlib/text.py\", line 179, in update\n    super().update(kwargs)\n  File \"/Users/manuvancha/.julia/conda/3/lib/python3.9/site-packages/matplotlib/artist.py\", line 996, in update\n    raise AttributeError(f\"{type(self).__name__!r} object \"\n",
      "",
      "Stacktrace:",
      "  [1] pyerr_check",
      "    @ ~/.julia/packages/PyCall/3fwVL/src/exception.jl:62 [inlined]",
      "  [2] pyerr_check",
      "    @ ~/.julia/packages/PyCall/3fwVL/src/exception.jl:66 [inlined]",
      "  [3] _handle_error(msg::String)",
      "    @ PyCall ~/.julia/packages/PyCall/3fwVL/src/exception.jl:83",
      "  [4] macro expansion",
      "    @ ~/.julia/packages/PyCall/3fwVL/src/exception.jl:97 [inlined]",
      "  [5] #107",
      "    @ ~/.julia/packages/PyCall/3fwVL/src/pyfncall.jl:43 [inlined]",
      "  [6] disable_sigint",
      "    @ ./c.jl:458 [inlined]",
      "  [7] __pycall!",
      "    @ ~/.julia/packages/PyCall/3fwVL/src/pyfncall.jl:42 [inlined]",
      "  [8] _pycall!(ret::PyCall.PyObject, o::PyCall.PyObject, args::Tuple{String}, nargs::Int64, kw::PyCall.PyObject)",
      "    @ PyCall ~/.julia/packages/PyCall/3fwVL/src/pyfncall.jl:29",
      "  [9] _pycall!(ret::PyCall.PyObject, o::PyCall.PyObject, args::Tuple{String}, kwargs::Base.Iterators.Pairs{Symbol, Any, NTuple{4, Symbol}, NamedTuple{(:size, :family, :math_fontfamily, :color), Tuple{Int64, String, String, NTuple{4, FixedPointNumbers.N0f8}}}})",
      "    @ PyCall ~/.julia/packages/PyCall/3fwVL/src/pyfncall.jl:11",
      " [10] #_#114",
      "    @ ~/.julia/packages/PyCall/3fwVL/src/pyfncall.jl:86 [inlined]",
      " [11] _before_layout_calcs(plt::Plots.Plot{Plots.PyPlotBackend})",
      "    @ Plots ~/.julia/packages/Plots/1WwM3/src/backends/pyplot.jl:1111",
      " [12] prepare_output(plt::Plots.Plot{Plots.PyPlotBackend})",
      "    @ Plots ~/.julia/packages/Plots/1WwM3/src/plot.jl:217",
      " [13] show(io::Base64.Base64EncodePipe, m::MIME{Symbol(\"image/png\")}, plt::Plots.Plot{Plots.PyPlotBackend})",
      "    @ Plots ~/.julia/packages/Plots/1WwM3/src/output.jl:212",
      " [14] base64encode(::Function, ::MIME{Symbol(\"image/png\")}, ::Vararg{Any, N} where N; context::Nothing)",
      "    @ Base64 /Users/julia/buildbot/worker/package_macos64/build/usr/share/julia/stdlib/v1.6/Base64/src/encode.jl:209",
      " [15] base64encode",
      "    @ /Users/julia/buildbot/worker/package_macos64/build/usr/share/julia/stdlib/v1.6/Base64/src/encode.jl:206 [inlined]",
      " [16] _ijulia_display_dict(plt::Plots.Plot{Plots.PyPlotBackend})",
      "    @ Plots ~/.julia/packages/Plots/1WwM3/src/ijulia.jl:44",
      " [17] display_dict(plt::Plots.Plot{Plots.PyPlotBackend})",
      "    @ Plots ~/.julia/packages/Plots/1WwM3/src/init.jl:93",
      " [18] #invokelatest#2",
      "    @ ./essentials.jl:708 [inlined]",
      " [19] invokelatest",
      "    @ ./essentials.jl:706 [inlined]",
      " [20] execute_request(socket::ZMQ.Socket, msg::IJulia.Msg)",
      "    @ IJulia ~/.julia/packages/IJulia/e8kqU/src/execute_request.jl:112",
      " [21] #invokelatest#2",
      "    @ ./essentials.jl:708 [inlined]",
      " [22] invokelatest",
      "    @ ./essentials.jl:706 [inlined]",
      " [23] eventloop(socket::ZMQ.Socket)",
      "    @ IJulia ~/.julia/packages/IJulia/e8kqU/src/eventloop.jl:8",
      " [24] (::IJulia.var\"#15#18\")()",
      "    @ IJulia ./task.jl:411"
     ]
    }
   ],
   "source": [
    "# pyplot()\n",
    "plot_loss_curve(ω_, α_, β_, γ_, ν̃_, least_loss, ω_store, α_store, β_store, γ_store, ν̃_store, loss_vals)"
   ]
  },
  {
   "cell_type": "code",
   "execution_count": 20,
   "id": "4cc6926f",
   "metadata": {},
   "outputs": [
    {
     "ename": "LoadError",
     "evalue": "UndefVarError: PyPlot not defined",
     "output_type": "error",
     "traceback": [
      "UndefVarError: PyPlot not defined",
      "",
      "Stacktrace:",
      " [1] plot_loss_tri(ω_::Float64, α_::Int64, β_::Float64, γ_::Float64, ν̃_::Float64, least_loss::Float64, ω_store::Matrix{Float64}, α_store::Matrix{Float64}, β_store::Matrix{Float64}, γ_store::Matrix{Float64}, ν̃_store::Matrix{Float64}, loss_vals::Matrix{Float64})",
      "   @ Main ./In[17]:3",
      " [2] top-level scope",
      "   @ In[20]:1",
      " [3] eval",
      "   @ ./boot.jl:360 [inlined]",
      " [4] include_string(mapexpr::typeof(REPL.softscope), mod::Module, code::String, filename::String)",
      "   @ Base ./loading.jl:1116"
     ]
    }
   ],
   "source": [
    "plot_loss_tri(ω_, α_, β_, γ_, ν̃_, least_loss, ω_store, α_store, β_store, γ_store, ν̃_store, loss_vals)"
   ]
  },
  {
   "cell_type": "code",
   "execution_count": 21,
   "id": "e642857e",
   "metadata": {},
   "outputs": [
    {
     "name": "stderr",
     "output_type": "stream",
     "text": [
      "┌ Warning: You are using Matplotlib 3.3.4, which is no longer\n",
      "│ officialy supported by the Plots community. To ensure smooth Plots.jl\n",
      "│ integration update your Matplotlib library to a version >= 3.4.0\n",
      "│ \n",
      "│ If you have used Conda.jl to install PyPlot (default installation),\n",
      "│ upgrade your matplotlib via Conda.jl and rebuild the PyPlot.\n",
      "│ \n",
      "│ If you are not sure, here are the default instructions:\n",
      "│ \n",
      "│ In Julia REPL:\n",
      "│ ```\n",
      "│ import Pkg;\n",
      "│ Pkg.add(\"Conda\")\n",
      "│ import Conda\n",
      "│ Conda.update()\n",
      "│ Pkg.build(\"PyPlot\")\n",
      "│ ```\n",
      "│ \n",
      "└ @ Plots /Users/manuvancha/.julia/packages/Plots/1WwM3/src/backends/pyplot.jl:29\n"
     ]
    },
    {
     "data": {
      "text/plain": [
       "Plots.PyPlotBackend()"
      ]
     },
     "execution_count": 21,
     "metadata": {},
     "output_type": "execute_result"
    }
   ],
   "source": [
    "pyplot()\n",
    "Plots.PyPlotBackend()"
   ]
  },
  {
   "cell_type": "code",
   "execution_count": 22,
   "id": "ca1b0c45",
   "metadata": {},
   "outputs": [
    {
     "data": {
      "text/plain": [
       "store_data (generic function with 1 method)"
      ]
     },
     "execution_count": 22,
     "metadata": {},
     "output_type": "execute_result"
    }
   ],
   "source": [
    "function store_data(infected_df,recovered_df,deceased_df)\n",
    "    infected_cases_data_path = \"data/preprocessed/countries/time_series_covid19_confirmed_global.csv\"\n",
    "    recovered_cases_data_path = \"data/preprocessed/countries/time_series_covid19_recovered_global.csv\"\n",
    "    deceased_cases_data_path = \"data/preprocessed/countries/time_series_covid19_deaths_global.csv\"\n",
    "\n",
    "    CSV.write(infected_cases_data_path, infected_df)\n",
    "#     infected_US = infected_total[infected_total[!, :\"Country/Region\"] .== \"US\", :]\n",
    "#     infected = select(infected_US, Not([:\"Province/State\", :\"Lat\", :\"Long\", :\"Country/Region\"])) #remove columns that are not required\n",
    "\n",
    "    CSV.write(recovered_cases_data_path, recovered_df)\n",
    "#     recovered_US = recovered_total[recovered_total[!, :\"Country/Region\"] .== \"US\", :]\n",
    "#     recovered = select(recovered_US, Not([:\"Province/State\", :\"Lat\", :\"Long\", :\"Country/Region\"])) #remove columns that are not required\n",
    "\n",
    "    CSV.write(deceased_cases_data_path, deceased_df)\n",
    "#     deceased_US = deceased_total[deceased_total[!, :\"Country/Region\"] .== \"US\", :]\n",
    "#     deceased = select(deceased_US, Not([:\"Province/State\", :\"Lat\", :\"Long\", :\"Country/Region\"]))#remove columns that are not required\n",
    "\n",
    "\n",
    "end"
   ]
  },
  {
   "cell_type": "code",
   "execution_count": 23,
   "id": "e4a6dd81",
   "metadata": {},
   "outputs": [],
   "source": [
    "#compute S̃, Ĩ and R̃ of all time t.\n",
    "\n",
    "\n",
    "# if !isfile(\"storage/preprocessed_data.csv\")\n",
    "#     for t = 1:length(infected_total)\n",
    "#         S̃[t] = [ω / α] * P - Ĩ[t] - R̃[t] - D̃[t]\n",
    "#         Ĩ[t + 1] = Ĩ[t] + β * [[S̃[t] * Ĩ[t]] / [S̃[t] + Ĩ[t]]] - γ * Ĩ[t] - ν * Ĩ[t]\n",
    "#         R̃[t + 1] = R̃[t] + γ * Ĩ[t]\n",
    "#         D[t + 1] = D[t] + α * ν * Ĩ[t]\n",
    "#     store_data(infected_df,recovered_df,deceased_df)\n",
    "# end\n",
    "\n",
    "# Store to avoid repeated computing."
   ]
  },
  {
   "cell_type": "code",
   "execution_count": null,
   "id": "93d3ae8a",
   "metadata": {},
   "outputs": [],
   "source": []
  },
  {
   "cell_type": "code",
   "execution_count": null,
   "id": "700b7b7a",
   "metadata": {},
   "outputs": [],
   "source": []
  },
  {
   "cell_type": "code",
   "execution_count": null,
   "id": "b7c27896",
   "metadata": {},
   "outputs": [],
   "source": []
  },
  {
   "cell_type": "code",
   "execution_count": null,
   "id": "8238221b",
   "metadata": {},
   "outputs": [],
   "source": []
  },
  {
   "cell_type": "code",
   "execution_count": null,
   "id": "1839cc46",
   "metadata": {},
   "outputs": [],
   "source": []
  },
  {
   "cell_type": "code",
   "execution_count": null,
   "id": "10b83221",
   "metadata": {},
   "outputs": [],
   "source": []
  },
  {
   "cell_type": "code",
   "execution_count": null,
   "id": "531aced3",
   "metadata": {},
   "outputs": [],
   "source": []
  },
  {
   "cell_type": "code",
   "execution_count": null,
   "id": "8f164313",
   "metadata": {},
   "outputs": [],
   "source": []
  },
  {
   "cell_type": "code",
   "execution_count": null,
   "id": "8cd8a326",
   "metadata": {},
   "outputs": [],
   "source": []
  },
  {
   "cell_type": "code",
   "execution_count": null,
   "id": "dd647777",
   "metadata": {},
   "outputs": [],
   "source": []
  }
 ],
 "metadata": {
  "kernelspec": {
   "display_name": "Julia 1.6.2",
   "language": "julia",
   "name": "julia-1.6"
  },
  "language_info": {
   "file_extension": ".jl",
   "mimetype": "application/julia",
   "name": "julia",
   "version": "1.6.2"
  }
 },
 "nbformat": 4,
 "nbformat_minor": 5
}
